{
 "cells": [
  {
   "cell_type": "code",
   "execution_count": 2,
   "id": "20457ada",
   "metadata": {},
   "outputs": [
    {
     "data": {
      "text/plain": [
       "10"
      ]
     },
     "execution_count": 2,
     "metadata": {},
     "output_type": "execute_result"
    }
   ],
   "source": [
    "5+5"
   ]
  },
  {
   "cell_type": "code",
   "execution_count": 3,
   "id": "b953fbf9",
   "metadata": {},
   "outputs": [
    {
     "data": {
      "text/plain": [
       "0"
      ]
     },
     "execution_count": 3,
     "metadata": {},
     "output_type": "execute_result"
    }
   ],
   "source": [
    "8-8"
   ]
  },
  {
   "cell_type": "code",
   "execution_count": 4,
   "id": "3b47b57c",
   "metadata": {},
   "outputs": [
    {
     "data": {
      "text/plain": [
       "10"
      ]
     },
     "execution_count": 4,
     "metadata": {},
     "output_type": "execute_result"
    }
   ],
   "source": [
    "5+5"
   ]
  },
  {
   "cell_type": "markdown",
   "id": "118b22b5",
   "metadata": {},
   "source": [
    "## Section 2: The Print Function"
   ]
  },
  {
   "cell_type": "code",
   "execution_count": 2,
   "id": "e016147e",
   "metadata": {},
   "outputs": [
    {
     "name": "stdout",
     "output_type": "stream",
     "text": [
      "Hello my name is Jorge\n"
     ]
    }
   ],
   "source": [
    "print('Hello my name is Jorge')"
   ]
  },
  {
   "cell_type": "markdown",
   "id": "4806d5a2",
   "metadata": {},
   "source": [
    "## Section 3: Data Types"
   ]
  },
  {
   "cell_type": "code",
   "execution_count": 3,
   "id": "2e1e3422",
   "metadata": {},
   "outputs": [
    {
     "data": {
      "text/plain": [
       "int"
      ]
     },
     "execution_count": 3,
     "metadata": {},
     "output_type": "execute_result"
    }
   ],
   "source": [
    "type(1)"
   ]
  },
  {
   "cell_type": "code",
   "execution_count": 4,
   "id": "c6f84d04",
   "metadata": {},
   "outputs": [
    {
     "data": {
      "text/plain": [
       "bool"
      ]
     },
     "execution_count": 4,
     "metadata": {},
     "output_type": "execute_result"
    }
   ],
   "source": [
    "type(True)"
   ]
  },
  {
   "cell_type": "code",
   "execution_count": 5,
   "id": "7000387d",
   "metadata": {},
   "outputs": [
    {
     "data": {
      "text/plain": [
       "123"
      ]
     },
     "execution_count": 5,
     "metadata": {},
     "output_type": "execute_result"
    }
   ],
   "source": [
    "# Convert data types\n",
    "int('123')"
   ]
  },
  {
   "cell_type": "markdown",
   "id": "22341ec1",
   "metadata": {},
   "source": [
    "## Section 5 : Arithmetic Demo\n"
   ]
  },
  {
   "cell_type": "code",
   "execution_count": 2,
   "id": "7b2c1da5",
   "metadata": {},
   "outputs": [],
   "source": [
    "my_string = '3579'\n",
    "my_float = 3.579\n",
    "my_int = 3"
   ]
  },
  {
   "cell_type": "code",
   "execution_count": 3,
   "id": "958224ed",
   "metadata": {},
   "outputs": [
    {
     "data": {
      "text/plain": [
       "3579"
      ]
     },
     "execution_count": 3,
     "metadata": {},
     "output_type": "execute_result"
    }
   ],
   "source": [
    "int(my_string)"
   ]
  },
  {
   "cell_type": "code",
   "execution_count": 4,
   "id": "ca640674",
   "metadata": {},
   "outputs": [
    {
     "data": {
      "text/plain": [
       "3"
      ]
     },
     "execution_count": 4,
     "metadata": {},
     "output_type": "execute_result"
    }
   ],
   "source": [
    "int(my_float)"
   ]
  },
  {
   "cell_type": "code",
   "execution_count": 6,
   "id": "09e7523b",
   "metadata": {},
   "outputs": [
    {
     "data": {
      "text/plain": [
       "3579.0"
      ]
     },
     "execution_count": 6,
     "metadata": {},
     "output_type": "execute_result"
    }
   ],
   "source": [
    "float(my_string)"
   ]
  },
  {
   "cell_type": "code",
   "execution_count": 7,
   "id": "93ff640d",
   "metadata": {},
   "outputs": [
    {
     "data": {
      "text/plain": [
       "6.579000000000001"
      ]
     },
     "execution_count": 7,
     "metadata": {},
     "output_type": "execute_result"
    }
   ],
   "source": [
    "my_int + my_float"
   ]
  },
  {
   "cell_type": "code",
   "execution_count": 8,
   "id": "8d337cf7",
   "metadata": {},
   "outputs": [
    {
     "data": {
      "text/plain": [
       "-0.5790000000000002"
      ]
     },
     "execution_count": 8,
     "metadata": {},
     "output_type": "execute_result"
    }
   ],
   "source": [
    "my_int - my_float"
   ]
  },
  {
   "cell_type": "code",
   "execution_count": 9,
   "id": "43167bb9",
   "metadata": {},
   "outputs": [
    {
     "data": {
      "text/plain": [
       "10.737"
      ]
     },
     "execution_count": 9,
     "metadata": {},
     "output_type": "execute_result"
    }
   ],
   "source": [
    "my_int * my_float"
   ]
  },
  {
   "cell_type": "code",
   "execution_count": 10,
   "id": "5a21aa28",
   "metadata": {},
   "outputs": [
    {
     "data": {
      "text/plain": [
       "51.00549546541933"
      ]
     },
     "execution_count": 10,
     "metadata": {},
     "output_type": "execute_result"
    }
   ],
   "source": [
    "my_int**my_float"
   ]
  },
  {
   "cell_type": "code",
   "execution_count": 11,
   "id": "c194e6ab",
   "metadata": {},
   "outputs": [
    {
     "data": {
      "text/plain": [
       "51"
      ]
     },
     "execution_count": 11,
     "metadata": {},
     "output_type": "execute_result"
    }
   ],
   "source": [
    "10 * 6 - 3**2"
   ]
  },
  {
   "cell_type": "code",
   "execution_count": 12,
   "id": "cce4951d",
   "metadata": {},
   "outputs": [
    {
     "data": {
      "text/plain": [
       "90"
      ]
     },
     "execution_count": 12,
     "metadata": {},
     "output_type": "execute_result"
    }
   ],
   "source": [
    "10 * (6 - 3)**2"
   ]
  },
  {
   "cell_type": "markdown",
   "id": "17157141",
   "metadata": {},
   "source": [
    "## Section 5: Numeric Functions Demo "
   ]
  },
  {
   "cell_type": "code",
   "execution_count": 2,
   "id": "63a74dc2",
   "metadata": {},
   "outputs": [],
   "source": [
    "number = 3.579"
   ]
  },
  {
   "cell_type": "code",
   "execution_count": 3,
   "id": "16cf19f5",
   "metadata": {},
   "outputs": [
    {
     "data": {
      "text/plain": [
       "4"
      ]
     },
     "execution_count": 3,
     "metadata": {},
     "output_type": "execute_result"
    }
   ],
   "source": [
    "round(number)"
   ]
  },
  {
   "cell_type": "code",
   "execution_count": 4,
   "id": "78230fef",
   "metadata": {},
   "outputs": [
    {
     "data": {
      "text/plain": [
       "3.58"
      ]
     },
     "execution_count": 4,
     "metadata": {},
     "output_type": "execute_result"
    }
   ],
   "source": [
    "round(number,2)"
   ]
  },
  {
   "cell_type": "code",
   "execution_count": 5,
   "id": "cb1839eb",
   "metadata": {},
   "outputs": [
    {
     "data": {
      "text/plain": [
       "9"
      ]
     },
     "execution_count": 5,
     "metadata": {},
     "output_type": "execute_result"
    }
   ],
   "source": [
    "abs(-9)"
   ]
  },
  {
   "cell_type": "code",
   "execution_count": 6,
   "id": "c9adce83",
   "metadata": {},
   "outputs": [
    {
     "data": {
      "text/plain": [
       "15"
      ]
     },
     "execution_count": 6,
     "metadata": {},
     "output_type": "execute_result"
    }
   ],
   "source": [
    "max(5,10,15)"
   ]
  },
  {
   "cell_type": "code",
   "execution_count": 7,
   "id": "4054e46c",
   "metadata": {},
   "outputs": [],
   "source": [
    "golf_score = [-3, 0, 2, 30]"
   ]
  },
  {
   "cell_type": "code",
   "execution_count": 8,
   "id": "b12019c5",
   "metadata": {},
   "outputs": [
    {
     "data": {
      "text/plain": [
       "-3"
      ]
     },
     "execution_count": 8,
     "metadata": {},
     "output_type": "execute_result"
    }
   ],
   "source": [
    "min(golf_score)"
   ]
  },
  {
   "cell_type": "code",
   "execution_count": 9,
   "id": "025a5586",
   "metadata": {},
   "outputs": [
    {
     "data": {
      "text/plain": [
       "30"
      ]
     },
     "execution_count": 9,
     "metadata": {},
     "output_type": "execute_result"
    }
   ],
   "source": [
    "max(golf_score)"
   ]
  },
  {
   "cell_type": "code",
   "execution_count": 10,
   "id": "53074065",
   "metadata": {},
   "outputs": [
    {
     "data": {
      "text/plain": [
       "29"
      ]
     },
     "execution_count": 10,
     "metadata": {},
     "output_type": "execute_result"
    }
   ],
   "source": [
    "sum(golf_score)"
   ]
  },
  {
   "cell_type": "code",
   "execution_count": 11,
   "id": "bff139b9",
   "metadata": {
    "scrolled": true
   },
   "outputs": [
    {
     "data": {
      "text/plain": [
       "32"
      ]
     },
     "execution_count": 11,
     "metadata": {},
     "output_type": "execute_result"
    }
   ],
   "source": [
    "sum(golf_score, 3)"
   ]
  },
  {
   "cell_type": "markdown",
   "id": "f8d9fbe1",
   "metadata": {},
   "source": [
    "## Section 6: Strings"
   ]
  },
  {
   "cell_type": "code",
   "execution_count": 1,
   "id": "274e4d3b",
   "metadata": {},
   "outputs": [
    {
     "name": "stdout",
     "output_type": "stream",
     "text": [
      "Mega Blockbuster\n"
     ]
    }
   ],
   "source": [
    "# DEMO string creation\n",
    "\n",
    "movie = 'Mega Blockbuster'\n",
    "\n",
    "print(movie)"
   ]
  },
  {
   "cell_type": "code",
   "execution_count": 3,
   "id": "16acdfe4",
   "metadata": {},
   "outputs": [
    {
     "name": "stdout",
     "output_type": "stream",
     "text": [
      "It's a Mega Blockbuster\n"
     ]
    }
   ],
   "source": [
    "movie = \"It's a Mega Blockbuster\"\n",
    "print(movie)"
   ]
  },
  {
   "cell_type": "code",
   "execution_count": 4,
   "id": "febf5744",
   "metadata": {},
   "outputs": [
    {
     "name": "stdout",
     "output_type": "stream",
     "text": [
      "\"Mega\" Blockbuster\n"
     ]
    }
   ],
   "source": [
    "movie = '\"Mega\" Blockbuster'\n",
    "print(movie)"
   ]
  },
  {
   "cell_type": "code",
   "execution_count": 5,
   "id": "5c53cddd",
   "metadata": {},
   "outputs": [
    {
     "name": "stdout",
     "output_type": "stream",
     "text": [
      "It's a \"Mega\" Blockbuster\n"
     ]
    }
   ],
   "source": [
    "movie = '''It's a \"Mega\" Blockbuster'''\n",
    "print(movie)"
   ]
  },
  {
   "cell_type": "code",
   "execution_count": 7,
   "id": "7de08b0f",
   "metadata": {},
   "outputs": [
    {
     "name": "stdout",
     "output_type": "stream",
     "text": [
      "Mega Blockbuster Was very good\n"
     ]
    }
   ],
   "source": [
    "# arithmetic\n",
    "movie = 'Mega Blockbuster'\n",
    "review = 'Was very good'\n",
    "\n",
    "print(movie + ' ' + review)"
   ]
  },
  {
   "cell_type": "code",
   "execution_count": 8,
   "id": "1201c6cd",
   "metadata": {},
   "outputs": [
    {
     "data": {
      "text/plain": [
       "'Mega BlockbusterMega BlockbusterMega BlockbusterMega Blockbuster'"
      ]
     },
     "execution_count": 8,
     "metadata": {},
     "output_type": "execute_result"
    }
   ],
   "source": [
    "(movie + ' ')* 4"
   ]
  },
  {
   "cell_type": "code",
   "execution_count": 9,
   "id": "2ec74fa3",
   "metadata": {
    "scrolled": true
   },
   "outputs": [
    {
     "data": {
      "text/plain": [
       "'Mega Blockbuster Mega Blockbuster Mega Blockbuster Mega Blockbuster '"
      ]
     },
     "execution_count": 9,
     "metadata": {},
     "output_type": "execute_result"
    }
   ],
   "source": [
    "(movie + ' ')* 4"
   ]
  },
  {
   "cell_type": "code",
   "execution_count": 1,
   "id": "b69326c7",
   "metadata": {},
   "outputs": [
    {
     "data": {
      "text/plain": [
       "'I'"
      ]
     },
     "execution_count": 1,
     "metadata": {},
     "output_type": "execute_result"
    }
   ],
   "source": [
    "# INDEXING\n",
    "\n",
    "movie = \"It's a Mega Blockbuster\"\n",
    "movie[0]"
   ]
  },
  {
   "cell_type": "code",
   "execution_count": 2,
   "id": "2d1675f9",
   "metadata": {},
   "outputs": [
    {
     "data": {
      "text/plain": [
       "'s'"
      ]
     },
     "execution_count": 2,
     "metadata": {},
     "output_type": "execute_result"
    }
   ],
   "source": [
    "movie[3]"
   ]
  },
  {
   "cell_type": "code",
   "execution_count": 3,
   "id": "77f71438",
   "metadata": {},
   "outputs": [
    {
     "data": {
      "text/plain": [
       "'r'"
      ]
     },
     "execution_count": 3,
     "metadata": {},
     "output_type": "execute_result"
    }
   ],
   "source": [
    "movie[-1]"
   ]
  },
  {
   "cell_type": "code",
   "execution_count": 4,
   "id": "aa548067",
   "metadata": {},
   "outputs": [
    {
     "data": {
      "text/plain": [
       "\"It's\""
      ]
     },
     "execution_count": 4,
     "metadata": {},
     "output_type": "execute_result"
    }
   ],
   "source": [
    "# String Slicing\n",
    "\n",
    "movie[0:4]"
   ]
  },
  {
   "cell_type": "code",
   "execution_count": 5,
   "id": "ee3f5cf7",
   "metadata": {},
   "outputs": [
    {
     "data": {
      "text/plain": [
       "' a Mega Blockbuster'"
      ]
     },
     "execution_count": 5,
     "metadata": {},
     "output_type": "execute_result"
    }
   ],
   "source": [
    "# everything after its's\n",
    "movie[4:]"
   ]
  },
  {
   "cell_type": "code",
   "execution_count": 6,
   "id": "f54a20f6",
   "metadata": {},
   "outputs": [
    {
     "data": {
      "text/plain": [
       "\"I'  eaBokutr\""
      ]
     },
     "execution_count": 6,
     "metadata": {},
     "output_type": "execute_result"
    }
   ],
   "source": [
    "# every other character\n",
    "movie[::2]"
   ]
  },
  {
   "cell_type": "code",
   "execution_count": 7,
   "id": "cdee1778",
   "metadata": {},
   "outputs": [
    {
     "data": {
      "text/plain": [
       "\"retsubkcolB ageM a s'tI\""
      ]
     },
     "execution_count": 7,
     "metadata": {},
     "output_type": "execute_result"
    }
   ],
   "source": [
    "# reverse string\n",
    "movie[::-1]"
   ]
  },
  {
   "cell_type": "code",
   "execution_count": 8,
   "id": "245108b8",
   "metadata": {
    "scrolled": true
   },
   "outputs": [
    {
     "data": {
      "text/plain": [
       "'buster'"
      ]
     },
     "execution_count": 8,
     "metadata": {},
     "output_type": "execute_result"
    }
   ],
   "source": [
    "# return buster\n",
    "movie[-6::]"
   ]
  },
  {
   "cell_type": "code",
   "execution_count": 1,
   "id": "44e7c3d9",
   "metadata": {},
   "outputs": [],
   "source": [
    "# String Methods\n",
    "movie = \"It's a Mega Blockbuster!\""
   ]
  },
  {
   "cell_type": "code",
   "execution_count": 2,
   "id": "de042719",
   "metadata": {},
   "outputs": [
    {
     "data": {
      "text/plain": [
       "\"IT'S A MEGA BLOCKBUSTER!\""
      ]
     },
     "execution_count": 2,
     "metadata": {},
     "output_type": "execute_result"
    }
   ],
   "source": [
    "movie.upper()"
   ]
  },
  {
   "cell_type": "code",
   "execution_count": 3,
   "id": "7fdfb2de",
   "metadata": {},
   "outputs": [
    {
     "data": {
      "text/plain": [
       "\"it's a mega blockbuster!\""
      ]
     },
     "execution_count": 3,
     "metadata": {},
     "output_type": "execute_result"
    }
   ],
   "source": [
    "movie.lower() "
   ]
  },
  {
   "cell_type": "code",
   "execution_count": 4,
   "id": "93c6e6f7",
   "metadata": {},
   "outputs": [
    {
     "data": {
      "text/plain": [
       "\"It's a Mega Blockbuster\""
      ]
     },
     "execution_count": 4,
     "metadata": {},
     "output_type": "execute_result"
    }
   ],
   "source": [
    "#remove !\n",
    "\n",
    "movie.strip('!')"
   ]
  },
  {
   "cell_type": "code",
   "execution_count": 5,
   "id": "6a0e8ee9",
   "metadata": {},
   "outputs": [
    {
     "data": {
      "text/plain": [
       "\"It's a Mega Blockbuster.\""
      ]
     },
     "execution_count": 5,
     "metadata": {},
     "output_type": "execute_result"
    }
   ],
   "source": [
    "movie.replace('!','.')"
   ]
  },
  {
   "cell_type": "code",
   "execution_count": 6,
   "id": "fb3a970f",
   "metadata": {},
   "outputs": [
    {
     "data": {
      "text/plain": [
       "[\"It's\", 'a', 'Mega', 'Blockbuster!']"
      ]
     },
     "execution_count": 6,
     "metadata": {},
     "output_type": "execute_result"
    }
   ],
   "source": [
    "movie.split()"
   ]
  },
  {
   "cell_type": "code",
   "execution_count": 9,
   "id": "642a2d35",
   "metadata": {},
   "outputs": [],
   "source": [
    "word_list = movie.split(\"'\")"
   ]
  },
  {
   "cell_type": "code",
   "execution_count": 10,
   "id": "ba464740",
   "metadata": {},
   "outputs": [
    {
     "data": {
      "text/plain": [
       "'Its a Mega Blockbuster!'"
      ]
     },
     "execution_count": 10,
     "metadata": {},
     "output_type": "execute_result"
    }
   ],
   "source": [
    "# join words back together\n",
    "''.join(word_list)"
   ]
  },
  {
   "cell_type": "code",
   "execution_count": 11,
   "id": "ca8187bb",
   "metadata": {},
   "outputs": [
    {
     "data": {
      "text/plain": [
       "'its a mega blockbuster!'"
      ]
     },
     "execution_count": 11,
     "metadata": {},
     "output_type": "execute_result"
    }
   ],
   "source": [
    "movie.lower().replace(\"'\",'')"
   ]
  },
  {
   "cell_type": "code",
   "execution_count": 12,
   "id": "9cbc405b",
   "metadata": {},
   "outputs": [
    {
     "data": {
      "text/plain": [
       "'its a mega blockbuster'"
      ]
     },
     "execution_count": 12,
     "metadata": {},
     "output_type": "execute_result"
    }
   ],
   "source": [
    "movie.lower().replace(\"'\",'').rstrip('!')"
   ]
  },
  {
   "cell_type": "code",
   "execution_count": 13,
   "id": "0bcaddb5",
   "metadata": {},
   "outputs": [],
   "source": [
    "# F strings\n",
    "movie = 'A Mega Blockbuster II'"
   ]
  },
  {
   "cell_type": "code",
   "execution_count": 14,
   "id": "57edd6d7",
   "metadata": {},
   "outputs": [
    {
     "name": "stdout",
     "output_type": "stream",
     "text": [
      "My favorite movie is A Mega Blockbuster II\n"
     ]
    }
   ],
   "source": [
    "print(f\"My favorite movie is {movie}\")"
   ]
  },
  {
   "cell_type": "code",
   "execution_count": 15,
   "id": "a10e422b",
   "metadata": {},
   "outputs": [
    {
     "name": "stdout",
     "output_type": "stream",
     "text": [
      "My favorite movie is A MEGA BLOCKBUSTER II\n"
     ]
    }
   ],
   "source": [
    "print(f\"My favorite movie is {movie.upper()}\")"
   ]
  },
  {
   "cell_type": "markdown",
   "id": "8f30fdeb",
   "metadata": {},
   "source": [
    "## Section 7: Conditional Logic"
   ]
  },
  {
   "cell_type": "code",
   "execution_count": 1,
   "id": "2823bdb5",
   "metadata": {},
   "outputs": [
    {
     "data": {
      "text/plain": [
       "10"
      ]
     },
     "execution_count": 1,
     "metadata": {},
     "output_type": "execute_result"
    }
   ],
   "source": [
    "# Boolean data types & operators\n",
    "10 * True"
   ]
  },
  {
   "cell_type": "code",
   "execution_count": 2,
   "id": "e15e114c",
   "metadata": {},
   "outputs": [
    {
     "data": {
      "text/plain": [
       "0"
      ]
     },
     "execution_count": 2,
     "metadata": {},
     "output_type": "execute_result"
    }
   ],
   "source": [
    "10 * False"
   ]
  },
  {
   "cell_type": "code",
   "execution_count": 3,
   "id": "d40c68ef",
   "metadata": {},
   "outputs": [
    {
     "data": {
      "text/plain": [
       "True"
      ]
     },
     "execution_count": 3,
     "metadata": {},
     "output_type": "execute_result"
    }
   ],
   "source": [
    "'word' == 'word'"
   ]
  },
  {
   "cell_type": "code",
   "execution_count": 4,
   "id": "ba9d4495",
   "metadata": {},
   "outputs": [
    {
     "data": {
      "text/plain": [
       "False"
      ]
     },
     "execution_count": 4,
     "metadata": {},
     "output_type": "execute_result"
    }
   ],
   "source": [
    "'word' == 'WORD'"
   ]
  },
  {
   "cell_type": "code",
   "execution_count": 5,
   "id": "b78a578e",
   "metadata": {},
   "outputs": [
    {
     "data": {
      "text/plain": [
       "False"
      ]
     },
     "execution_count": 5,
     "metadata": {},
     "output_type": "execute_result"
    }
   ],
   "source": [
    "'word' != 'word'"
   ]
  },
  {
   "cell_type": "code",
   "execution_count": 6,
   "id": "8085db7e",
   "metadata": {},
   "outputs": [
    {
     "data": {
      "text/plain": [
       "False"
      ]
     },
     "execution_count": 6,
     "metadata": {},
     "output_type": "execute_result"
    }
   ],
   "source": [
    "len('word') > len('word')"
   ]
  },
  {
   "cell_type": "code",
   "execution_count": 8,
   "id": "67d52afc",
   "metadata": {},
   "outputs": [
    {
     "data": {
      "text/plain": [
       "True"
      ]
     },
     "execution_count": 8,
     "metadata": {},
     "output_type": "execute_result"
    }
   ],
   "source": [
    "len('word') > len('eat')"
   ]
  },
  {
   "cell_type": "code",
   "execution_count": 9,
   "id": "c0db546d",
   "metadata": {},
   "outputs": [
    {
     "data": {
      "text/plain": [
       "True"
      ]
     },
     "execution_count": 9,
     "metadata": {},
     "output_type": "execute_result"
    }
   ],
   "source": [
    "len('word') < len('words')"
   ]
  },
  {
   "cell_type": "code",
   "execution_count": 10,
   "id": "e386508a",
   "metadata": {},
   "outputs": [
    {
     "data": {
      "text/plain": [
       "True"
      ]
     },
     "execution_count": 10,
     "metadata": {},
     "output_type": "execute_result"
    }
   ],
   "source": [
    "'or' in 'word'"
   ]
  },
  {
   "cell_type": "code",
   "execution_count": 12,
   "id": "55e75dc9",
   "metadata": {},
   "outputs": [
    {
     "data": {
      "text/plain": [
       "False"
      ]
     },
     "execution_count": 12,
     "metadata": {},
     "output_type": "execute_result"
    }
   ],
   "source": [
    "'nor' in 'word'"
   ]
  },
  {
   "cell_type": "code",
   "execution_count": 13,
   "id": "b69c1e69",
   "metadata": {},
   "outputs": [],
   "source": [
    "my_list = [1,2,3]"
   ]
  },
  {
   "cell_type": "code",
   "execution_count": 16,
   "id": "5d0b8c79",
   "metadata": {},
   "outputs": [
    {
     "data": {
      "text/plain": [
       "True"
      ]
     },
     "execution_count": 16,
     "metadata": {},
     "output_type": "execute_result"
    }
   ],
   "source": [
    "2 in my_list"
   ]
  },
  {
   "cell_type": "code",
   "execution_count": 18,
   "id": "a50607d9",
   "metadata": {},
   "outputs": [
    {
     "data": {
      "text/plain": [
       "False"
      ]
     },
     "execution_count": 18,
     "metadata": {},
     "output_type": "execute_result"
    }
   ],
   "source": [
    "4 in my_list"
   ]
  },
  {
   "cell_type": "code",
   "execution_count": 19,
   "id": "c09210fa",
   "metadata": {},
   "outputs": [
    {
     "data": {
      "text/plain": [
       "False"
      ]
     },
     "execution_count": 19,
     "metadata": {},
     "output_type": "execute_result"
    }
   ],
   "source": [
    "# AND needs all true statement to return true\n",
    "3 in my_list and 'nor' in 'word'"
   ]
  },
  {
   "cell_type": "code",
   "execution_count": 20,
   "id": "3b18f0d5",
   "metadata": {},
   "outputs": [
    {
     "data": {
      "text/plain": [
       "True"
      ]
     },
     "execution_count": 20,
     "metadata": {},
     "output_type": "execute_result"
    }
   ],
   "source": [
    "# OR needs only one\n",
    "3 in my_list or 'nor' in 'word'"
   ]
  },
  {
   "cell_type": "code",
   "execution_count": 22,
   "id": "db13e139",
   "metadata": {},
   "outputs": [
    {
     "data": {
      "text/plain": [
       "False"
      ]
     },
     "execution_count": 22,
     "metadata": {},
     "output_type": "execute_result"
    }
   ],
   "source": [
    "4 in my_list or ('nor' in 'word' and 'd' in 'word')"
   ]
  },
  {
   "cell_type": "code",
   "execution_count": 23,
   "id": "1d851093",
   "metadata": {
    "scrolled": true
   },
   "outputs": [
    {
     "data": {
      "text/plain": [
       "True"
      ]
     },
     "execution_count": 23,
     "metadata": {},
     "output_type": "execute_result"
    }
   ],
   "source": [
    "4 in my_list or ('nor' in 'word' or 'd' in 'word')"
   ]
  },
  {
   "cell_type": "code",
   "execution_count": 35,
   "id": "abd4d321",
   "metadata": {},
   "outputs": [],
   "source": [
    "# if, Else, Elif\n",
    "\n",
    "customer_id = 'c00013'"
   ]
  },
  {
   "cell_type": "code",
   "execution_count": 25,
   "id": "a6c87330",
   "metadata": {},
   "outputs": [
    {
     "data": {
      "text/plain": [
       "13"
      ]
     },
     "execution_count": 25,
     "metadata": {},
     "output_type": "execute_result"
    }
   ],
   "source": [
    "int(customer_id.strip('c'))"
   ]
  },
  {
   "cell_type": "code",
   "execution_count": 31,
   "id": "37837466",
   "metadata": {},
   "outputs": [
    {
     "name": "stdout",
     "output_type": "stream",
     "text": [
      "You get a small price\n",
      "ok, back to work!\n"
     ]
    }
   ],
   "source": [
    "if int(customer_id.strip('c')) <= 50:\n",
    "    print('You get a big price!')\n",
    "elif int(customer_id.strip('c')) <= 100:\n",
    "    print('You get a small price')\n",
    "else:\n",
    "    print('Sorry, no luck for you')\n",
    "\n",
    "print('ok, back to work!')"
   ]
  },
  {
   "cell_type": "code",
   "execution_count": 34,
   "id": "a6037e55",
   "metadata": {},
   "outputs": [
    {
     "name": "stdout",
     "output_type": "stream",
     "text": [
      "You get a big price!\n",
      "ok, back to work!\n"
     ]
    }
   ],
   "source": [
    "# any that is less than 50 is also less than 100 so the elif will never run\n",
    "\n",
    "if int(customer_id.strip('c')) <= 100:\n",
    "    print('You get a big price!')\n",
    "elif int(customer_id.strip('c')) <= 50:\n",
    "    print('You get a small price')\n",
    "else:\n",
    "    print('Sorry, no luck for you')\n",
    "\n",
    "print('ok, back to work!')"
   ]
  },
  {
   "cell_type": "code",
   "execution_count": 36,
   "id": "5a42fa97",
   "metadata": {},
   "outputs": [
    {
     "name": "stdout",
     "output_type": "stream",
     "text": [
      "You get a small price\n",
      "ok, back to work!\n"
     ]
    }
   ],
   "source": [
    "# add more logic to help\n",
    "\n",
    "if 50 < int(customer_id.strip('c')) <= 100:\n",
    "    print('You get a big price!')\n",
    "elif int(customer_id.strip('c')) <= 50:\n",
    "    print('You get a small price')\n",
    "else:\n",
    "    print('Sorry, no luck for you')\n",
    "\n",
    "print('ok, back to work!')"
   ]
  },
  {
   "cell_type": "markdown",
   "id": "b9b43d5c",
   "metadata": {},
   "source": [
    "## Section 8: Sequence Data Type"
   ]
  },
  {
   "cell_type": "code",
   "execution_count": 1,
   "id": "f7b8a6a1",
   "metadata": {},
   "outputs": [],
   "source": [
    "# List Operations\n",
    "customer_ids = ['c00001', 'c00003', 'c00005', 'c00010']"
   ]
  },
  {
   "cell_type": "code",
   "execution_count": 2,
   "id": "6de54d1a",
   "metadata": {},
   "outputs": [
    {
     "data": {
      "text/plain": [
       "True"
      ]
     },
     "execution_count": 2,
     "metadata": {},
     "output_type": "execute_result"
    }
   ],
   "source": [
    "'c00003' in customer_ids"
   ]
  },
  {
   "cell_type": "code",
   "execution_count": 3,
   "id": "6204209d",
   "metadata": {},
   "outputs": [
    {
     "data": {
      "text/plain": [
       "'c00003'"
      ]
     },
     "execution_count": 3,
     "metadata": {},
     "output_type": "execute_result"
    }
   ],
   "source": [
    "customer_ids[1]"
   ]
  },
  {
   "cell_type": "code",
   "execution_count": 4,
   "id": "072f31f2",
   "metadata": {},
   "outputs": [
    {
     "data": {
      "text/plain": [
       "5"
      ]
     },
     "execution_count": 4,
     "metadata": {},
     "output_type": "execute_result"
    }
   ],
   "source": [
    "int(customer_ids[2][-5:])"
   ]
  },
  {
   "cell_type": "code",
   "execution_count": 5,
   "id": "c31a185d",
   "metadata": {
    "scrolled": true
   },
   "outputs": [
    {
     "data": {
      "text/plain": [
       "['c00001', 'c00003']"
      ]
     },
     "execution_count": 5,
     "metadata": {},
     "output_type": "execute_result"
    }
   ],
   "source": [
    "customer_ids[:2]"
   ]
  },
  {
   "cell_type": "code",
   "execution_count": 1,
   "id": "09736005",
   "metadata": {},
   "outputs": [],
   "source": [
    "# Modifying List\n",
    "customer_ids = ['c00001', 'c00003', 'c00005', 'c00010']"
   ]
  },
  {
   "cell_type": "code",
   "execution_count": 2,
   "id": "69039142",
   "metadata": {},
   "outputs": [
    {
     "data": {
      "text/plain": [
       "['c00001', 'c00004', 'c00005', 'c00010']"
      ]
     },
     "execution_count": 2,
     "metadata": {},
     "output_type": "execute_result"
    }
   ],
   "source": [
    "customer_ids[1] = 'c00004'\n",
    "customer_ids"
   ]
  },
  {
   "cell_type": "code",
   "execution_count": 3,
   "id": "b6e8d43c",
   "metadata": {},
   "outputs": [
    {
     "ename": "IndexError",
     "evalue": "list assignment index out of range",
     "output_type": "error",
     "traceback": [
      "\u001b[0;31m---------------------------------------------------------------------------\u001b[0m",
      "\u001b[0;31mIndexError\u001b[0m                                Traceback (most recent call last)",
      "Cell \u001b[0;32mIn[3], line 1\u001b[0m\n\u001b[0;32m----> 1\u001b[0m customer_ids[\u001b[38;5;241m4\u001b[39m] \u001b[38;5;241m=\u001b[39m \u001b[38;5;124m'\u001b[39m\u001b[38;5;124mc00011\u001b[39m\u001b[38;5;124m'\u001b[39m\n",
      "\u001b[0;31mIndexError\u001b[0m: list assignment index out of range"
     ]
    }
   ],
   "source": [
    "customer_ids[4] = 'c00011'"
   ]
  },
  {
   "cell_type": "code",
   "execution_count": 4,
   "id": "758f3c7d",
   "metadata": {},
   "outputs": [
    {
     "data": {
      "text/plain": [
       "['c00001', 'c00004', 'c00005', 'c00010', 'c00011']"
      ]
     },
     "execution_count": 4,
     "metadata": {},
     "output_type": "execute_result"
    }
   ],
   "source": [
    "customer_ids.append('c00011')\n",
    "customer_ids"
   ]
  },
  {
   "cell_type": "code",
   "execution_count": 5,
   "id": "9a456253",
   "metadata": {},
   "outputs": [
    {
     "data": {
      "text/plain": [
       "['c00001', 'c00003', 'c00004', 'c00005', 'c00010', 'c00011']"
      ]
     },
     "execution_count": 5,
     "metadata": {},
     "output_type": "execute_result"
    }
   ],
   "source": [
    "customer_ids.insert(1,'c00003')\n",
    "customer_ids"
   ]
  },
  {
   "cell_type": "code",
   "execution_count": 7,
   "id": "add25e6e",
   "metadata": {},
   "outputs": [
    {
     "data": {
      "text/plain": [
       "['c00001',\n",
       " 'c00003',\n",
       " 'c00004',\n",
       " 'c00005',\n",
       " 'c00010',\n",
       " 'c00011',\n",
       " 'c00012',\n",
       " 'c00015']"
      ]
     },
     "execution_count": 7,
     "metadata": {},
     "output_type": "execute_result"
    }
   ],
   "source": [
    "new_customer_ids = ['c00012', 'c00015']\n",
    "\n",
    "all_customer_list = customer_ids + new_customer_ids\n",
    "all_customer_list"
   ]
  },
  {
   "cell_type": "code",
   "execution_count": 9,
   "id": "52d0413f",
   "metadata": {},
   "outputs": [
    {
     "data": {
      "text/plain": [
       "['c00001', 'c00004', 'c00005', 'c00010', 'c00011', 'c00012', 'c00015']"
      ]
     },
     "execution_count": 9,
     "metadata": {},
     "output_type": "execute_result"
    }
   ],
   "source": [
    "del all_customer_list[1]\n",
    "all_customer_list"
   ]
  },
  {
   "cell_type": "code",
   "execution_count": null,
   "id": "a21ea77f",
   "metadata": {},
   "outputs": [],
   "source": [
    "if 'c00001' in all_customer_list:\n",
    "    all_customer_list.remove('c00005')"
   ]
  },
  {
   "cell_type": "code",
   "execution_count": 10,
   "id": "93c35d9d",
   "metadata": {},
   "outputs": [],
   "source": [
    "# List Methods & Functions\n",
    "customer_ids = ['c00001', 'c00003', 'c00005', 'c00010', 'c00003', 'c00003']"
   ]
  },
  {
   "cell_type": "code",
   "execution_count": 11,
   "id": "af3fc5fd",
   "metadata": {},
   "outputs": [
    {
     "data": {
      "text/plain": [
       "3"
      ]
     },
     "execution_count": 11,
     "metadata": {},
     "output_type": "execute_result"
    }
   ],
   "source": [
    "customer_ids.count('c00003')"
   ]
  },
  {
   "cell_type": "code",
   "execution_count": 12,
   "id": "28b7bfc1",
   "metadata": {},
   "outputs": [
    {
     "data": {
      "text/plain": [
       "0.5"
      ]
     },
     "execution_count": 12,
     "metadata": {},
     "output_type": "execute_result"
    }
   ],
   "source": [
    "customer_ids.count('c00003')/ len(customer_ids)"
   ]
  },
  {
   "cell_type": "code",
   "execution_count": 15,
   "id": "16d65318",
   "metadata": {},
   "outputs": [
    {
     "data": {
      "text/plain": [
       "['c00003']"
      ]
     },
     "execution_count": 15,
     "metadata": {},
     "output_type": "execute_result"
    }
   ],
   "source": [
    "vip_customer = []\n",
    "customer_id = 'c00003'\n",
    "\n",
    "if customer_ids.count('c00003')/ len(customer_ids) > .2:\n",
    "    vip_customer.append(customer_id)\n",
    "\n",
    "vip_customer"
   ]
  },
  {
   "cell_type": "code",
   "execution_count": 16,
   "id": "6dd2975b",
   "metadata": {},
   "outputs": [
    {
     "data": {
      "text/plain": [
       "['c00001', 'c00003', 'c00003', 'c00003', 'c00005', 'c00010']"
      ]
     },
     "execution_count": 16,
     "metadata": {},
     "output_type": "execute_result"
    }
   ],
   "source": [
    "customer_ids.sort()\n",
    "\n",
    "customer_ids"
   ]
  },
  {
   "cell_type": "code",
   "execution_count": 18,
   "id": "c55a2a61",
   "metadata": {},
   "outputs": [
    {
     "data": {
      "text/plain": [
       "['c00005', 'c00010']"
      ]
     },
     "execution_count": 18,
     "metadata": {},
     "output_type": "execute_result"
    }
   ],
   "source": [
    "# last two customer in DB\n",
    "\n",
    "customer_ids[-2:]"
   ]
  },
  {
   "cell_type": "code",
   "execution_count": 20,
   "id": "3f363d3e",
   "metadata": {},
   "outputs": [
    {
     "data": {
      "text/plain": [
       "['c00010', 'c00005', 'c00003', 'c00003', 'c00003', 'c00001']"
      ]
     },
     "execution_count": 20,
     "metadata": {},
     "output_type": "execute_result"
    }
   ],
   "source": [
    "customer_ids.reverse()\n",
    "\n",
    "customer_ids"
   ]
  },
  {
   "cell_type": "code",
   "execution_count": 21,
   "id": "28a95d42",
   "metadata": {},
   "outputs": [],
   "source": [
    "if customer_ids.index(customer_id) < 2:\n",
    "    print('Enjoy a 10% discount today!')"
   ]
  },
  {
   "cell_type": "code",
   "execution_count": 23,
   "id": "0a1d5863",
   "metadata": {},
   "outputs": [
    {
     "data": {
      "text/plain": [
       "['c00001', 'c00003', 'c00003', 'c00003', 'c00005', 'c00010']"
      ]
     },
     "execution_count": 23,
     "metadata": {},
     "output_type": "execute_result"
    }
   ],
   "source": [
    "# does not change the underline data\n",
    "\n",
    "new_list = sorted(customer_ids)\n",
    "\n",
    "new_list"
   ]
  },
  {
   "cell_type": "code",
   "execution_count": 24,
   "id": "e9d51c90",
   "metadata": {},
   "outputs": [
    {
     "data": {
      "text/plain": [
       "['c00010', 'c00005', 'c00003', 'c00003', 'c00003', 'c00001']"
      ]
     },
     "execution_count": 24,
     "metadata": {},
     "output_type": "execute_result"
    }
   ],
   "source": [
    "customer_ids"
   ]
  },
  {
   "cell_type": "code",
   "execution_count": 1,
   "id": "09c0b2fe",
   "metadata": {},
   "outputs": [],
   "source": [
    "# Nested Lists& Copying List\n",
    "items: ['skis', 'snowboards', 'goggles', 'boots']\n",
    "    \n",
    "item_details = [[5,249.99], [0, 219.99], [0, 99.99], [12, 79.99]]"
   ]
  },
  {
   "cell_type": "code",
   "execution_count": 2,
   "id": "ecdcba17",
   "metadata": {},
   "outputs": [
    {
     "data": {
      "text/plain": [
       "[0, 219.99]"
      ]
     },
     "execution_count": 2,
     "metadata": {},
     "output_type": "execute_result"
    }
   ],
   "source": [
    "item_details[1]"
   ]
  },
  {
   "cell_type": "code",
   "execution_count": 3,
   "id": "85cd5f1e",
   "metadata": {},
   "outputs": [
    {
     "data": {
      "text/plain": [
       "219.99"
      ]
     },
     "execution_count": 3,
     "metadata": {},
     "output_type": "execute_result"
    }
   ],
   "source": [
    "#just return price\n",
    "\n",
    "item_details[1][1]"
   ]
  },
  {
   "cell_type": "code",
   "execution_count": 5,
   "id": "636501c6",
   "metadata": {},
   "outputs": [
    {
     "data": {
      "text/plain": [
       "274.99"
      ]
     },
     "execution_count": 5,
     "metadata": {},
     "output_type": "execute_result"
    }
   ],
   "source": [
    "# 10% increase on skis\n",
    "\n",
    "round(item_details[0][1]*1.1,2)"
   ]
  },
  {
   "cell_type": "code",
   "execution_count": 6,
   "id": "24f370a9",
   "metadata": {},
   "outputs": [
    {
     "data": {
      "text/plain": [
       "[[5, 249.99], [0, 219.99], [0, 99.99], [12, 79.99]]"
      ]
     },
     "execution_count": 6,
     "metadata": {},
     "output_type": "execute_result"
    }
   ],
   "source": [
    "winter_details = item_details\n",
    "\n",
    "winter_details"
   ]
  },
  {
   "cell_type": "code",
   "execution_count": 7,
   "id": "cd8e6f30",
   "metadata": {},
   "outputs": [
    {
     "data": {
      "text/plain": [
       "[[100, 274.99], [0, 219.99], [0, 99.99], [12, 79.99]]"
      ]
     },
     "execution_count": 7,
     "metadata": {},
     "output_type": "execute_result"
    }
   ],
   "source": [
    "winter_details[0] = [100, 274.99]\n",
    "\n",
    "winter_details"
   ]
  },
  {
   "cell_type": "code",
   "execution_count": 8,
   "id": "a16f8c21",
   "metadata": {},
   "outputs": [
    {
     "data": {
      "text/plain": [
       "[[100, 274.99], [0, 219.99], [0, 99.99], [12, 79.99]]"
      ]
     },
     "execution_count": 8,
     "metadata": {},
     "output_type": "execute_result"
    }
   ],
   "source": [
    "# changes carry over to the original list\n",
    "\n",
    "item_details"
   ]
  },
  {
   "cell_type": "code",
   "execution_count": 9,
   "id": "2da507d8",
   "metadata": {},
   "outputs": [],
   "source": [
    "# instead make a copy\n",
    "\n",
    "item_details = [[5,249.99], [0, 219.99], [0, 99.99], [12, 79.99]]"
   ]
  },
  {
   "cell_type": "code",
   "execution_count": 10,
   "id": "d0a6485b",
   "metadata": {},
   "outputs": [],
   "source": [
    "winter_details = item_details.copy()"
   ]
  },
  {
   "cell_type": "code",
   "execution_count": 11,
   "id": "acd741b1",
   "metadata": {},
   "outputs": [
    {
     "data": {
      "text/plain": [
       "[[5, 249.99], [0, 219.99], [0, 99.99], [12, 79.99]]"
      ]
     },
     "execution_count": 11,
     "metadata": {},
     "output_type": "execute_result"
    }
   ],
   "source": [
    "winter_details"
   ]
  },
  {
   "cell_type": "code",
   "execution_count": 12,
   "id": "4a285c3e",
   "metadata": {},
   "outputs": [
    {
     "data": {
      "text/plain": [
       "[[100, 274.99], [0, 219.99], [0, 99.99], [12, 79.99]]"
      ]
     },
     "execution_count": 12,
     "metadata": {},
     "output_type": "execute_result"
    }
   ],
   "source": [
    "winter_details[0] = [100, 274.99]\n",
    "\n",
    "winter_details"
   ]
  },
  {
   "cell_type": "code",
   "execution_count": 13,
   "id": "b20ba244",
   "metadata": {},
   "outputs": [
    {
     "data": {
      "text/plain": [
       "[[5, 249.99], [0, 219.99], [0, 99.99], [12, 79.99]]"
      ]
     },
     "execution_count": 13,
     "metadata": {},
     "output_type": "execute_result"
    }
   ],
   "source": [
    "# does not change original list\n",
    "item_details"
   ]
  },
  {
   "cell_type": "code",
   "execution_count": 14,
   "id": "b563143f",
   "metadata": {},
   "outputs": [
    {
     "data": {
      "text/plain": [
       "[[100, 274.99], [50, 219.99], [0, 99.99], [12, 79.99]]"
      ]
     },
     "execution_count": 14,
     "metadata": {},
     "output_type": "execute_result"
    }
   ],
   "source": [
    "winter_details[1][0] = 50\n",
    "\n",
    "winter_details"
   ]
  },
  {
   "cell_type": "code",
   "execution_count": 15,
   "id": "e993988d",
   "metadata": {},
   "outputs": [
    {
     "data": {
      "text/plain": [
       "[[5, 249.99], [50, 219.99], [0, 99.99], [12, 79.99]]"
      ]
     },
     "execution_count": 15,
     "metadata": {},
     "output_type": "execute_result"
    }
   ],
   "source": [
    "# but because we only changed one item in the list. This change will carry over to the original list. \n",
    "# This is where deep copy comes in handly\n",
    "\n",
    "item_details"
   ]
  },
  {
   "cell_type": "code",
   "execution_count": 17,
   "id": "012008e0",
   "metadata": {},
   "outputs": [],
   "source": [
    "from copy import deepcopy"
   ]
  },
  {
   "cell_type": "code",
   "execution_count": 18,
   "id": "74e65600",
   "metadata": {},
   "outputs": [],
   "source": [
    "item_details = [[5,249.99], [0, 219.99], [0, 99.99], [12, 79.99]]"
   ]
  },
  {
   "cell_type": "code",
   "execution_count": 20,
   "id": "29480980",
   "metadata": {
    "scrolled": true
   },
   "outputs": [
    {
     "data": {
      "text/plain": [
       "[[5, 249.99], [0, 219.99], [0, 99.99], [12, 79.99]]"
      ]
     },
     "execution_count": 20,
     "metadata": {},
     "output_type": "execute_result"
    }
   ],
   "source": [
    "winter_details = deepcopy(item_details)\n",
    "\n",
    "winter_details"
   ]
  },
  {
   "cell_type": "code",
   "execution_count": 21,
   "id": "46a7888c",
   "metadata": {},
   "outputs": [
    {
     "data": {
      "text/plain": [
       "[[100, 274.99], [0, 219.99], [0, 99.99], [12, 79.99]]"
      ]
     },
     "execution_count": 21,
     "metadata": {},
     "output_type": "execute_result"
    }
   ],
   "source": [
    "winter_details[0] = [100, 274.99]\n",
    "\n",
    "winter_details"
   ]
  },
  {
   "cell_type": "code",
   "execution_count": 22,
   "id": "a89030f0",
   "metadata": {},
   "outputs": [
    {
     "data": {
      "text/plain": [
       "[[100, 274.99], [50, 219.99], [0, 99.99], [12, 79.99]]"
      ]
     },
     "execution_count": 22,
     "metadata": {},
     "output_type": "execute_result"
    }
   ],
   "source": [
    "winter_details[1][0] = 50\n",
    "\n",
    "winter_details"
   ]
  },
  {
   "cell_type": "code",
   "execution_count": 23,
   "id": "ac7fe5da",
   "metadata": {},
   "outputs": [
    {
     "data": {
      "text/plain": [
       "[[5, 249.99], [0, 219.99], [0, 99.99], [12, 79.99]]"
      ]
     },
     "execution_count": 23,
     "metadata": {},
     "output_type": "execute_result"
    }
   ],
   "source": [
    "#deepcopy changes does not change original data if you only update one element in the nested list\n",
    "\n",
    "item_details"
   ]
  },
  {
   "cell_type": "code",
   "execution_count": null,
   "id": "340e9d6f",
   "metadata": {},
   "outputs": [],
   "source": [
    "# Tuples"
   ]
  },
  {
   "cell_type": "code",
   "execution_count": 24,
   "id": "4177b9cb",
   "metadata": {},
   "outputs": [],
   "source": [
    "price_tuple = ('$3.50', '$99.99', '$149.99')"
   ]
  },
  {
   "cell_type": "code",
   "execution_count": 25,
   "id": "5243fac2",
   "metadata": {},
   "outputs": [
    {
     "data": {
      "text/plain": [
       "'$3.50'"
      ]
     },
     "execution_count": 25,
     "metadata": {},
     "output_type": "execute_result"
    }
   ],
   "source": [
    "price_tuple[0]"
   ]
  },
  {
   "cell_type": "code",
   "execution_count": 26,
   "id": "4337c0b9",
   "metadata": {},
   "outputs": [
    {
     "data": {
      "text/plain": [
       "('$99.99', '$149.99')"
      ]
     },
     "execution_count": 26,
     "metadata": {},
     "output_type": "execute_result"
    }
   ],
   "source": [
    "price_tuple[-2:]"
   ]
  },
  {
   "cell_type": "code",
   "execution_count": 27,
   "id": "b220e891",
   "metadata": {},
   "outputs": [
    {
     "data": {
      "text/plain": [
       "True"
      ]
     },
     "execution_count": 27,
     "metadata": {},
     "output_type": "execute_result"
    }
   ],
   "source": [
    "'$3.50' in price_tuple"
   ]
  },
  {
   "cell_type": "code",
   "execution_count": 28,
   "id": "7e2066ad",
   "metadata": {},
   "outputs": [
    {
     "ename": "TypeError",
     "evalue": "'tuple' object does not support item assignment",
     "output_type": "error",
     "traceback": [
      "\u001b[0;31m---------------------------------------------------------------------------\u001b[0m",
      "\u001b[0;31mTypeError\u001b[0m                                 Traceback (most recent call last)",
      "Cell \u001b[0;32mIn[28], line 2\u001b[0m\n\u001b[1;32m      1\u001b[0m \u001b[38;5;66;03m# cant modify data\u001b[39;00m\n\u001b[0;32m----> 2\u001b[0m price_tuple[\u001b[38;5;241m1\u001b[39m] \u001b[38;5;241m=\u001b[39m \u001b[38;5;124m'\u001b[39m\u001b[38;5;124m$149.99\u001b[39m\u001b[38;5;124m'\u001b[39m\n",
      "\u001b[0;31mTypeError\u001b[0m: 'tuple' object does not support item assignment"
     ]
    }
   ],
   "source": [
    "# cant modify data\n",
    "price_tuple[1] = '$149.99'"
   ]
  },
  {
   "cell_type": "code",
   "execution_count": 29,
   "id": "83b19581",
   "metadata": {},
   "outputs": [
    {
     "ename": "AttributeError",
     "evalue": "'tuple' object has no attribute 'append'",
     "output_type": "error",
     "traceback": [
      "\u001b[0;31m---------------------------------------------------------------------------\u001b[0m",
      "\u001b[0;31mAttributeError\u001b[0m                            Traceback (most recent call last)",
      "Cell \u001b[0;32mIn[29], line 1\u001b[0m\n\u001b[0;32m----> 1\u001b[0m \u001b[43mprice_tuple\u001b[49m\u001b[38;5;241;43m.\u001b[39;49m\u001b[43mappend\u001b[49m(\u001b[38;5;124m'\u001b[39m\u001b[38;5;124m$149.99\u001b[39m\u001b[38;5;124m'\u001b[39m)\n",
      "\u001b[0;31mAttributeError\u001b[0m: 'tuple' object has no attribute 'append'"
     ]
    }
   ],
   "source": [
    "price_tuple.append('$149.99')"
   ]
  },
  {
   "cell_type": "code",
   "execution_count": 30,
   "id": "4bebbef3",
   "metadata": {},
   "outputs": [
    {
     "data": {
      "text/plain": [
       "['$3.50', '$99.99', '$149.99']"
      ]
     },
     "execution_count": 30,
     "metadata": {},
     "output_type": "execute_result"
    }
   ],
   "source": [
    "# you could change the type to list, then change the items within\n",
    "\n",
    "list(price_tuple)"
   ]
  },
  {
   "cell_type": "code",
   "execution_count": 31,
   "id": "13e729d3",
   "metadata": {},
   "outputs": [],
   "source": [
    "price1, price2, price3 = price_tuple"
   ]
  },
  {
   "cell_type": "code",
   "execution_count": 32,
   "id": "f1be306e",
   "metadata": {},
   "outputs": [
    {
     "data": {
      "text/plain": [
       "'$3.50'"
      ]
     },
     "execution_count": 32,
     "metadata": {},
     "output_type": "execute_result"
    }
   ],
   "source": [
    "price1"
   ]
  },
  {
   "cell_type": "code",
   "execution_count": 33,
   "id": "cf9d4258",
   "metadata": {},
   "outputs": [
    {
     "data": {
      "text/plain": [
       "'$149.99'"
      ]
     },
     "execution_count": 33,
     "metadata": {},
     "output_type": "execute_result"
    }
   ],
   "source": [
    "price3"
   ]
  },
  {
   "cell_type": "code",
   "execution_count": 35,
   "id": "1919073c",
   "metadata": {},
   "outputs": [
    {
     "data": {
      "text/plain": [
       "103.49"
      ]
     },
     "execution_count": 35,
     "metadata": {},
     "output_type": "execute_result"
    }
   ],
   "source": [
    "float(price1.strip('$')) + float(price2.strip('$'))"
   ]
  },
  {
   "cell_type": "code",
   "execution_count": 36,
   "id": "aeca1ca4",
   "metadata": {},
   "outputs": [
    {
     "data": {
      "text/plain": [
       "range(0, 100, 10)"
      ]
     },
     "execution_count": 36,
     "metadata": {},
     "output_type": "execute_result"
    }
   ],
   "source": [
    "# Ranges\n",
    "range(0,100,10)"
   ]
  },
  {
   "cell_type": "code",
   "execution_count": 38,
   "id": "80bc84bc",
   "metadata": {},
   "outputs": [
    {
     "data": {
      "text/plain": [
       "50"
      ]
     },
     "execution_count": 38,
     "metadata": {},
     "output_type": "execute_result"
    }
   ],
   "source": [
    "range(0,100,10)[5]"
   ]
  },
  {
   "cell_type": "code",
   "execution_count": 39,
   "id": "e53ef419",
   "metadata": {},
   "outputs": [
    {
     "data": {
      "text/plain": [
       "[0, 10, 20, 30, 40, 50, 60, 70, 80, 90]"
      ]
     },
     "execution_count": 39,
     "metadata": {},
     "output_type": "execute_result"
    }
   ],
   "source": [
    "# stop element is not inclusive\n",
    "\n",
    "list(range(0,100,10))"
   ]
  },
  {
   "cell_type": "code",
   "execution_count": 40,
   "id": "1f96c7cf",
   "metadata": {},
   "outputs": [
    {
     "data": {
      "text/plain": [
       "[0, 10, 20, 30, 40, 50, 60, 70, 80, 90, 100]"
      ]
     },
     "execution_count": 40,
     "metadata": {},
     "output_type": "execute_result"
    }
   ],
   "source": [
    "list(range(0,101,10))"
   ]
  },
  {
   "cell_type": "markdown",
   "id": "4bc2d696",
   "metadata": {},
   "source": [
    "## Section 9: Loops"
   ]
  },
  {
   "cell_type": "code",
   "execution_count": 41,
   "id": "54760e99",
   "metadata": {},
   "outputs": [],
   "source": [
    "# For Loops\n",
    "customer_ratings = ['5 stars', '3 stars', '5 stars', '4 stars', '4 stars', \n",
    "                    '1 stars', '4 stars', '5 stars', '2 stars', '5 stars']"
   ]
  },
  {
   "cell_type": "code",
   "execution_count": 44,
   "id": "01907f6f",
   "metadata": {},
   "outputs": [
    {
     "data": {
      "text/plain": [
       "'5'"
      ]
     },
     "execution_count": 44,
     "metadata": {},
     "output_type": "execute_result"
    }
   ],
   "source": [
    "rating = int(customer_rating[0][0])\n",
    "\n",
    "rating"
   ]
  },
  {
   "cell_type": "code",
   "execution_count": 49,
   "id": "2a45a21d",
   "metadata": {},
   "outputs": [
    {
     "data": {
      "text/plain": [
       "[5, 3, 5, 4, 4, 1, 4, 5, 2, 5]"
      ]
     },
     "execution_count": 49,
     "metadata": {},
     "output_type": "execute_result"
    }
   ],
   "source": [
    "numeric_ratings = []\n",
    "\n",
    "for rating in customer_ratings:\n",
    "    numeric_ratings.append((int(rating[0])))\n",
    "\n",
    "numeric_ratings"
   ]
  },
  {
   "cell_type": "code",
   "execution_count": 50,
   "id": "e5553304",
   "metadata": {},
   "outputs": [
    {
     "data": {
      "text/plain": [
       "3.8"
      ]
     },
     "execution_count": 50,
     "metadata": {},
     "output_type": "execute_result"
    }
   ],
   "source": [
    "sum(numeric_ratings)/ len(numeric_ratings)"
   ]
  },
  {
   "cell_type": "code",
   "execution_count": 52,
   "id": "0e0e6602",
   "metadata": {},
   "outputs": [],
   "source": [
    "# Looping over Indicies\n",
    "\n",
    "inventory = [10, 14, 10, 15, 8, 27]\n",
    "\n",
    "prices = [2.99, 99.99, 219.99, 89.99, 29.99, 9.99]"
   ]
  },
  {
   "cell_type": "code",
   "execution_count": 53,
   "id": "76e7e0fe",
   "metadata": {},
   "outputs": [
    {
     "name": "stdout",
     "output_type": "stream",
     "text": [
      "0\n",
      "1\n",
      "2\n",
      "3\n",
      "4\n",
      "5\n"
     ]
    }
   ],
   "source": [
    "for i in range(len(inventory)):\n",
    "    print(i)"
   ]
  },
  {
   "cell_type": "code",
   "execution_count": 58,
   "id": "cd801ed0",
   "metadata": {},
   "outputs": [
    {
     "data": {
      "text/plain": [
       "[29.9, 1399.86, 2199.9, 1349.85, 239.92, 269.73]"
      ]
     },
     "execution_count": 58,
     "metadata": {},
     "output_type": "execute_result"
    }
   ],
   "source": [
    "product_values = []\n",
    "\n",
    "for i in range(len(inventory)):\n",
    "    product_values.append((round(inventory[i]*prices[i],2)))\n",
    "    \n",
    "product_values"
   ]
  },
  {
   "cell_type": "code",
   "execution_count": 59,
   "id": "fd08abfe",
   "metadata": {},
   "outputs": [
    {
     "data": {
      "text/plain": [
       "5489.16"
      ]
     },
     "execution_count": 59,
     "metadata": {},
     "output_type": "execute_result"
    }
   ],
   "source": [
    "sum(product_values)"
   ]
  },
  {
   "cell_type": "code",
   "execution_count": 71,
   "id": "776161ee",
   "metadata": {},
   "outputs": [],
   "source": [
    "# Enumerate\n",
    "item_names = ['Keychain', 'Helmet', 'Snowboard', 'Ski Poles', 'Sweatshirt','Boots']\n",
    "\n",
    "inventories = [10, 14, 10, 15, 8, 27]\n",
    "\n",
    "prices = [2.99, 99.99, 219.99, 89.99, 29.99, 9.99]"
   ]
  },
  {
   "cell_type": "code",
   "execution_count": 72,
   "id": "dbae6343",
   "metadata": {},
   "outputs": [
    {
     "name": "stdout",
     "output_type": "stream",
     "text": [
      "We have $29.9 worth of Keychain.\n",
      "We have $1399.86 worth of Helmet.\n",
      "We have $2199.9 worth of Snowboard.\n",
      "We have $1349.85 worth of Ski Poles.\n",
      "We have $239.92 worth of Sweatshirt.\n",
      "We have $269.73 worth of Boots.\n"
     ]
    },
    {
     "data": {
      "text/plain": [
       "5489.16"
      ]
     },
     "execution_count": 72,
     "metadata": {},
     "output_type": "execute_result"
    }
   ],
   "source": [
    "product_values = []\n",
    "\n",
    "for i, inventory in enumerate(inventories):\n",
    "    product_value = round(inventory *prices[i],2)\n",
    "    product_values.append(product_value)\n",
    "    print(f'We have ${product_value} worth of {item_names[i]}.')\n",
    "    \n",
    "product_values\n",
    "\n",
    "sum(product_values)"
   ]
  },
  {
   "cell_type": "code",
   "execution_count": null,
   "id": "d561ea19",
   "metadata": {},
   "outputs": [],
   "source": []
  }
 ],
 "metadata": {
  "kernelspec": {
   "display_name": "Python 3 (ipykernel)",
   "language": "python",
   "name": "python3"
  },
  "language_info": {
   "codemirror_mode": {
    "name": "ipython",
    "version": 3
   },
   "file_extension": ".py",
   "mimetype": "text/x-python",
   "name": "python",
   "nbconvert_exporter": "python",
   "pygments_lexer": "ipython3",
   "version": "3.10.9"
  }
 },
 "nbformat": 4,
 "nbformat_minor": 5
}
