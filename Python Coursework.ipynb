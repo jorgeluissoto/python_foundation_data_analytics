{
 "cells": [
  {
   "cell_type": "code",
   "execution_count": 2,
   "id": "20457ada",
   "metadata": {},
   "outputs": [
    {
     "data": {
      "text/plain": [
       "10"
      ]
     },
     "execution_count": 2,
     "metadata": {},
     "output_type": "execute_result"
    }
   ],
   "source": [
    "5+5"
   ]
  },
  {
   "cell_type": "code",
   "execution_count": 3,
   "id": "b953fbf9",
   "metadata": {},
   "outputs": [
    {
     "data": {
      "text/plain": [
       "0"
      ]
     },
     "execution_count": 3,
     "metadata": {},
     "output_type": "execute_result"
    }
   ],
   "source": [
    "8-8"
   ]
  },
  {
   "cell_type": "code",
   "execution_count": 4,
   "id": "3b47b57c",
   "metadata": {},
   "outputs": [
    {
     "data": {
      "text/plain": [
       "10"
      ]
     },
     "execution_count": 4,
     "metadata": {},
     "output_type": "execute_result"
    }
   ],
   "source": [
    "5+5"
   ]
  },
  {
   "cell_type": "markdown",
   "id": "118b22b5",
   "metadata": {},
   "source": [
    "## Section 2: The Print Function"
   ]
  },
  {
   "cell_type": "code",
   "execution_count": 2,
   "id": "e016147e",
   "metadata": {},
   "outputs": [
    {
     "name": "stdout",
     "output_type": "stream",
     "text": [
      "Hello my name is Jorge\n"
     ]
    }
   ],
   "source": [
    "print('Hello my name is Jorge')"
   ]
  },
  {
   "cell_type": "markdown",
   "id": "4806d5a2",
   "metadata": {},
   "source": [
    "## Section 3: Data Types"
   ]
  },
  {
   "cell_type": "code",
   "execution_count": 3,
   "id": "2e1e3422",
   "metadata": {},
   "outputs": [
    {
     "data": {
      "text/plain": [
       "int"
      ]
     },
     "execution_count": 3,
     "metadata": {},
     "output_type": "execute_result"
    }
   ],
   "source": [
    "type(1)"
   ]
  },
  {
   "cell_type": "code",
   "execution_count": 4,
   "id": "c6f84d04",
   "metadata": {},
   "outputs": [
    {
     "data": {
      "text/plain": [
       "bool"
      ]
     },
     "execution_count": 4,
     "metadata": {},
     "output_type": "execute_result"
    }
   ],
   "source": [
    "type(True)"
   ]
  },
  {
   "cell_type": "code",
   "execution_count": 5,
   "id": "7000387d",
   "metadata": {},
   "outputs": [
    {
     "data": {
      "text/plain": [
       "123"
      ]
     },
     "execution_count": 5,
     "metadata": {},
     "output_type": "execute_result"
    }
   ],
   "source": [
    "# Convert data types\n",
    "int('123')"
   ]
  },
  {
   "cell_type": "markdown",
   "id": "22341ec1",
   "metadata": {},
   "source": [
    "### Section 5 : Arithmetic Demo\n"
   ]
  },
  {
   "cell_type": "code",
   "execution_count": 2,
   "id": "7b2c1da5",
   "metadata": {},
   "outputs": [],
   "source": [
    "my_string = '3579'\n",
    "my_float = 3.579\n",
    "my_int = 3"
   ]
  },
  {
   "cell_type": "code",
   "execution_count": 3,
   "id": "958224ed",
   "metadata": {},
   "outputs": [
    {
     "data": {
      "text/plain": [
       "3579"
      ]
     },
     "execution_count": 3,
     "metadata": {},
     "output_type": "execute_result"
    }
   ],
   "source": [
    "int(my_string)"
   ]
  },
  {
   "cell_type": "code",
   "execution_count": 4,
   "id": "ca640674",
   "metadata": {},
   "outputs": [
    {
     "data": {
      "text/plain": [
       "3"
      ]
     },
     "execution_count": 4,
     "metadata": {},
     "output_type": "execute_result"
    }
   ],
   "source": [
    "int(my_float)"
   ]
  },
  {
   "cell_type": "code",
   "execution_count": 6,
   "id": "09e7523b",
   "metadata": {},
   "outputs": [
    {
     "data": {
      "text/plain": [
       "3579.0"
      ]
     },
     "execution_count": 6,
     "metadata": {},
     "output_type": "execute_result"
    }
   ],
   "source": [
    "float(my_string)"
   ]
  },
  {
   "cell_type": "code",
   "execution_count": 7,
   "id": "93ff640d",
   "metadata": {},
   "outputs": [
    {
     "data": {
      "text/plain": [
       "6.579000000000001"
      ]
     },
     "execution_count": 7,
     "metadata": {},
     "output_type": "execute_result"
    }
   ],
   "source": [
    "my_int + my_float"
   ]
  },
  {
   "cell_type": "code",
   "execution_count": 8,
   "id": "8d337cf7",
   "metadata": {},
   "outputs": [
    {
     "data": {
      "text/plain": [
       "-0.5790000000000002"
      ]
     },
     "execution_count": 8,
     "metadata": {},
     "output_type": "execute_result"
    }
   ],
   "source": [
    "my_int - my_float"
   ]
  },
  {
   "cell_type": "code",
   "execution_count": 9,
   "id": "43167bb9",
   "metadata": {},
   "outputs": [
    {
     "data": {
      "text/plain": [
       "10.737"
      ]
     },
     "execution_count": 9,
     "metadata": {},
     "output_type": "execute_result"
    }
   ],
   "source": [
    "my_int * my_float"
   ]
  },
  {
   "cell_type": "code",
   "execution_count": 10,
   "id": "5a21aa28",
   "metadata": {},
   "outputs": [
    {
     "data": {
      "text/plain": [
       "51.00549546541933"
      ]
     },
     "execution_count": 10,
     "metadata": {},
     "output_type": "execute_result"
    }
   ],
   "source": [
    "my_int**my_float"
   ]
  },
  {
   "cell_type": "code",
   "execution_count": 11,
   "id": "c194e6ab",
   "metadata": {},
   "outputs": [
    {
     "data": {
      "text/plain": [
       "51"
      ]
     },
     "execution_count": 11,
     "metadata": {},
     "output_type": "execute_result"
    }
   ],
   "source": [
    "10 * 6 - 3**2"
   ]
  },
  {
   "cell_type": "code",
   "execution_count": 12,
   "id": "cce4951d",
   "metadata": {},
   "outputs": [
    {
     "data": {
      "text/plain": [
       "90"
      ]
     },
     "execution_count": 12,
     "metadata": {},
     "output_type": "execute_result"
    }
   ],
   "source": [
    "10 * (6 - 3)**2"
   ]
  },
  {
   "cell_type": "markdown",
   "id": "17157141",
   "metadata": {},
   "source": [
    "### Section 5: Numeric Functions Demo "
   ]
  },
  {
   "cell_type": "code",
   "execution_count": 2,
   "id": "63a74dc2",
   "metadata": {},
   "outputs": [],
   "source": [
    "number = 3.579"
   ]
  },
  {
   "cell_type": "code",
   "execution_count": 3,
   "id": "16cf19f5",
   "metadata": {},
   "outputs": [
    {
     "data": {
      "text/plain": [
       "4"
      ]
     },
     "execution_count": 3,
     "metadata": {},
     "output_type": "execute_result"
    }
   ],
   "source": [
    "round(number)"
   ]
  },
  {
   "cell_type": "code",
   "execution_count": 4,
   "id": "78230fef",
   "metadata": {},
   "outputs": [
    {
     "data": {
      "text/plain": [
       "3.58"
      ]
     },
     "execution_count": 4,
     "metadata": {},
     "output_type": "execute_result"
    }
   ],
   "source": [
    "round(number,2)"
   ]
  },
  {
   "cell_type": "code",
   "execution_count": 5,
   "id": "cb1839eb",
   "metadata": {},
   "outputs": [
    {
     "data": {
      "text/plain": [
       "9"
      ]
     },
     "execution_count": 5,
     "metadata": {},
     "output_type": "execute_result"
    }
   ],
   "source": [
    "abs(-9)"
   ]
  },
  {
   "cell_type": "code",
   "execution_count": 6,
   "id": "c9adce83",
   "metadata": {},
   "outputs": [
    {
     "data": {
      "text/plain": [
       "15"
      ]
     },
     "execution_count": 6,
     "metadata": {},
     "output_type": "execute_result"
    }
   ],
   "source": [
    "max(5,10,15)"
   ]
  },
  {
   "cell_type": "code",
   "execution_count": 7,
   "id": "4054e46c",
   "metadata": {},
   "outputs": [],
   "source": [
    "golf_score = [-3, 0, 2, 30]"
   ]
  },
  {
   "cell_type": "code",
   "execution_count": 8,
   "id": "b12019c5",
   "metadata": {},
   "outputs": [
    {
     "data": {
      "text/plain": [
       "-3"
      ]
     },
     "execution_count": 8,
     "metadata": {},
     "output_type": "execute_result"
    }
   ],
   "source": [
    "min(golf_score)"
   ]
  },
  {
   "cell_type": "code",
   "execution_count": 9,
   "id": "025a5586",
   "metadata": {},
   "outputs": [
    {
     "data": {
      "text/plain": [
       "30"
      ]
     },
     "execution_count": 9,
     "metadata": {},
     "output_type": "execute_result"
    }
   ],
   "source": [
    "max(golf_score)"
   ]
  },
  {
   "cell_type": "code",
   "execution_count": 10,
   "id": "53074065",
   "metadata": {},
   "outputs": [
    {
     "data": {
      "text/plain": [
       "29"
      ]
     },
     "execution_count": 10,
     "metadata": {},
     "output_type": "execute_result"
    }
   ],
   "source": [
    "sum(golf_score)"
   ]
  },
  {
   "cell_type": "code",
   "execution_count": 11,
   "id": "bff139b9",
   "metadata": {
    "scrolled": true
   },
   "outputs": [
    {
     "data": {
      "text/plain": [
       "32"
      ]
     },
     "execution_count": 11,
     "metadata": {},
     "output_type": "execute_result"
    }
   ],
   "source": [
    "sum(golf_score, 3)"
   ]
  },
  {
   "cell_type": "markdown",
   "id": "f8d9fbe1",
   "metadata": {},
   "source": [
    "### Section 6: Strings"
   ]
  },
  {
   "cell_type": "code",
   "execution_count": 1,
   "id": "274e4d3b",
   "metadata": {},
   "outputs": [
    {
     "name": "stdout",
     "output_type": "stream",
     "text": [
      "Mega Blockbuster\n"
     ]
    }
   ],
   "source": [
    "# DEMO string creation\n",
    "\n",
    "movie = 'Mega Blockbuster'\n",
    "\n",
    "print(movie)"
   ]
  },
  {
   "cell_type": "code",
   "execution_count": 3,
   "id": "16acdfe4",
   "metadata": {},
   "outputs": [
    {
     "name": "stdout",
     "output_type": "stream",
     "text": [
      "It's a Mega Blockbuster\n"
     ]
    }
   ],
   "source": [
    "movie = \"It's a Mega Blockbuster\"\n",
    "print(movie)"
   ]
  },
  {
   "cell_type": "code",
   "execution_count": 4,
   "id": "febf5744",
   "metadata": {},
   "outputs": [
    {
     "name": "stdout",
     "output_type": "stream",
     "text": [
      "\"Mega\" Blockbuster\n"
     ]
    }
   ],
   "source": [
    "movie = '\"Mega\" Blockbuster'\n",
    "print(movie)"
   ]
  },
  {
   "cell_type": "code",
   "execution_count": 5,
   "id": "5c53cddd",
   "metadata": {},
   "outputs": [
    {
     "name": "stdout",
     "output_type": "stream",
     "text": [
      "It's a \"Mega\" Blockbuster\n"
     ]
    }
   ],
   "source": [
    "movie = '''It's a \"Mega\" Blockbuster'''\n",
    "print(movie)"
   ]
  },
  {
   "cell_type": "code",
   "execution_count": 7,
   "id": "7de08b0f",
   "metadata": {},
   "outputs": [
    {
     "name": "stdout",
     "output_type": "stream",
     "text": [
      "Mega Blockbuster Was very good\n"
     ]
    }
   ],
   "source": [
    "# arithmetic\n",
    "movie = 'Mega Blockbuster'\n",
    "review = 'Was very good'\n",
    "\n",
    "print(movie + ' ' + review)"
   ]
  },
  {
   "cell_type": "code",
   "execution_count": 8,
   "id": "1201c6cd",
   "metadata": {},
   "outputs": [
    {
     "data": {
      "text/plain": [
       "'Mega BlockbusterMega BlockbusterMega BlockbusterMega Blockbuster'"
      ]
     },
     "execution_count": 8,
     "metadata": {},
     "output_type": "execute_result"
    }
   ],
   "source": [
    "(movie + ' ')* 4"
   ]
  },
  {
   "cell_type": "code",
   "execution_count": 9,
   "id": "2ec74fa3",
   "metadata": {},
   "outputs": [
    {
     "data": {
      "text/plain": [
       "'Mega Blockbuster Mega Blockbuster Mega Blockbuster Mega Blockbuster '"
      ]
     },
     "execution_count": 9,
     "metadata": {},
     "output_type": "execute_result"
    }
   ],
   "source": [
    "(movie + ' ')* 4"
   ]
  }
 ],
 "metadata": {
  "kernelspec": {
   "display_name": "Python 3 (ipykernel)",
   "language": "python",
   "name": "python3"
  },
  "language_info": {
   "codemirror_mode": {
    "name": "ipython",
    "version": 3
   },
   "file_extension": ".py",
   "mimetype": "text/x-python",
   "name": "python",
   "nbconvert_exporter": "python",
   "pygments_lexer": "ipython3",
   "version": "3.10.9"
  }
 },
 "nbformat": 4,
 "nbformat_minor": 5
}
