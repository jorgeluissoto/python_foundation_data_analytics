{
 "cells": [
  {
   "cell_type": "code",
   "execution_count": 2,
   "id": "20457ada",
   "metadata": {},
   "outputs": [
    {
     "data": {
      "text/plain": [
       "10"
      ]
     },
     "execution_count": 2,
     "metadata": {},
     "output_type": "execute_result"
    }
   ],
   "source": [
    "5+5"
   ]
  },
  {
   "cell_type": "code",
   "execution_count": 3,
   "id": "b953fbf9",
   "metadata": {},
   "outputs": [
    {
     "data": {
      "text/plain": [
       "0"
      ]
     },
     "execution_count": 3,
     "metadata": {},
     "output_type": "execute_result"
    }
   ],
   "source": [
    "8-8"
   ]
  },
  {
   "cell_type": "code",
   "execution_count": 4,
   "id": "3b47b57c",
   "metadata": {},
   "outputs": [
    {
     "data": {
      "text/plain": [
       "10"
      ]
     },
     "execution_count": 4,
     "metadata": {},
     "output_type": "execute_result"
    }
   ],
   "source": [
    "5+5"
   ]
  },
  {
   "cell_type": "markdown",
   "id": "118b22b5",
   "metadata": {},
   "source": [
    "## Section 2: The Print Function"
   ]
  },
  {
   "cell_type": "code",
   "execution_count": 2,
   "id": "e016147e",
   "metadata": {},
   "outputs": [
    {
     "name": "stdout",
     "output_type": "stream",
     "text": [
      "Hello my name is Jorge\n"
     ]
    }
   ],
   "source": [
    "print('Hello my name is Jorge')"
   ]
  },
  {
   "cell_type": "markdown",
   "id": "4806d5a2",
   "metadata": {},
   "source": [
    "## Section 3: Data Types"
   ]
  },
  {
   "cell_type": "code",
   "execution_count": 3,
   "id": "2e1e3422",
   "metadata": {},
   "outputs": [
    {
     "data": {
      "text/plain": [
       "int"
      ]
     },
     "execution_count": 3,
     "metadata": {},
     "output_type": "execute_result"
    }
   ],
   "source": [
    "type(1)"
   ]
  },
  {
   "cell_type": "code",
   "execution_count": 4,
   "id": "c6f84d04",
   "metadata": {},
   "outputs": [
    {
     "data": {
      "text/plain": [
       "bool"
      ]
     },
     "execution_count": 4,
     "metadata": {},
     "output_type": "execute_result"
    }
   ],
   "source": [
    "type(True)"
   ]
  },
  {
   "cell_type": "code",
   "execution_count": 5,
   "id": "7000387d",
   "metadata": {},
   "outputs": [
    {
     "data": {
      "text/plain": [
       "123"
      ]
     },
     "execution_count": 5,
     "metadata": {},
     "output_type": "execute_result"
    }
   ],
   "source": [
    "# Convert data types\n",
    "int('123')"
   ]
  },
  {
   "cell_type": "markdown",
   "id": "22341ec1",
   "metadata": {},
   "source": [
    "### Section 5 : Arithmetic Demo\n"
   ]
  },
  {
   "cell_type": "code",
   "execution_count": 2,
   "id": "7b2c1da5",
   "metadata": {},
   "outputs": [],
   "source": [
    "my_string = '3579'\n",
    "my_float = 3.579\n",
    "my_int = 3"
   ]
  },
  {
   "cell_type": "code",
   "execution_count": 3,
   "id": "958224ed",
   "metadata": {},
   "outputs": [
    {
     "data": {
      "text/plain": [
       "3579"
      ]
     },
     "execution_count": 3,
     "metadata": {},
     "output_type": "execute_result"
    }
   ],
   "source": [
    "int(my_string)"
   ]
  },
  {
   "cell_type": "code",
   "execution_count": 4,
   "id": "ca640674",
   "metadata": {},
   "outputs": [
    {
     "data": {
      "text/plain": [
       "3"
      ]
     },
     "execution_count": 4,
     "metadata": {},
     "output_type": "execute_result"
    }
   ],
   "source": [
    "int(my_float)"
   ]
  },
  {
   "cell_type": "code",
   "execution_count": 6,
   "id": "09e7523b",
   "metadata": {},
   "outputs": [
    {
     "data": {
      "text/plain": [
       "3579.0"
      ]
     },
     "execution_count": 6,
     "metadata": {},
     "output_type": "execute_result"
    }
   ],
   "source": [
    "float(my_string)"
   ]
  },
  {
   "cell_type": "code",
   "execution_count": 7,
   "id": "93ff640d",
   "metadata": {},
   "outputs": [
    {
     "data": {
      "text/plain": [
       "6.579000000000001"
      ]
     },
     "execution_count": 7,
     "metadata": {},
     "output_type": "execute_result"
    }
   ],
   "source": [
    "my_int + my_float"
   ]
  },
  {
   "cell_type": "code",
   "execution_count": 8,
   "id": "8d337cf7",
   "metadata": {},
   "outputs": [
    {
     "data": {
      "text/plain": [
       "-0.5790000000000002"
      ]
     },
     "execution_count": 8,
     "metadata": {},
     "output_type": "execute_result"
    }
   ],
   "source": [
    "my_int - my_float"
   ]
  },
  {
   "cell_type": "code",
   "execution_count": 9,
   "id": "43167bb9",
   "metadata": {},
   "outputs": [
    {
     "data": {
      "text/plain": [
       "10.737"
      ]
     },
     "execution_count": 9,
     "metadata": {},
     "output_type": "execute_result"
    }
   ],
   "source": [
    "my_int * my_float"
   ]
  },
  {
   "cell_type": "code",
   "execution_count": 10,
   "id": "5a21aa28",
   "metadata": {},
   "outputs": [
    {
     "data": {
      "text/plain": [
       "51.00549546541933"
      ]
     },
     "execution_count": 10,
     "metadata": {},
     "output_type": "execute_result"
    }
   ],
   "source": [
    "my_int**my_float"
   ]
  },
  {
   "cell_type": "code",
   "execution_count": 11,
   "id": "c194e6ab",
   "metadata": {},
   "outputs": [
    {
     "data": {
      "text/plain": [
       "51"
      ]
     },
     "execution_count": 11,
     "metadata": {},
     "output_type": "execute_result"
    }
   ],
   "source": [
    "10 * 6 - 3**2"
   ]
  },
  {
   "cell_type": "code",
   "execution_count": 12,
   "id": "cce4951d",
   "metadata": {},
   "outputs": [
    {
     "data": {
      "text/plain": [
       "90"
      ]
     },
     "execution_count": 12,
     "metadata": {},
     "output_type": "execute_result"
    }
   ],
   "source": [
    "10 * (6 - 3)**2"
   ]
  },
  {
   "cell_type": "markdown",
   "id": "17157141",
   "metadata": {},
   "source": [
    "### Section 5: Numeric Functions Demo "
   ]
  },
  {
   "cell_type": "code",
   "execution_count": 2,
   "id": "63a74dc2",
   "metadata": {},
   "outputs": [],
   "source": [
    "number = 3.579"
   ]
  },
  {
   "cell_type": "code",
   "execution_count": 3,
   "id": "16cf19f5",
   "metadata": {},
   "outputs": [
    {
     "data": {
      "text/plain": [
       "4"
      ]
     },
     "execution_count": 3,
     "metadata": {},
     "output_type": "execute_result"
    }
   ],
   "source": [
    "round(number)"
   ]
  },
  {
   "cell_type": "code",
   "execution_count": 4,
   "id": "78230fef",
   "metadata": {},
   "outputs": [
    {
     "data": {
      "text/plain": [
       "3.58"
      ]
     },
     "execution_count": 4,
     "metadata": {},
     "output_type": "execute_result"
    }
   ],
   "source": [
    "round(number,2)"
   ]
  },
  {
   "cell_type": "code",
   "execution_count": 5,
   "id": "cb1839eb",
   "metadata": {},
   "outputs": [
    {
     "data": {
      "text/plain": [
       "9"
      ]
     },
     "execution_count": 5,
     "metadata": {},
     "output_type": "execute_result"
    }
   ],
   "source": [
    "abs(-9)"
   ]
  },
  {
   "cell_type": "code",
   "execution_count": 6,
   "id": "c9adce83",
   "metadata": {},
   "outputs": [
    {
     "data": {
      "text/plain": [
       "15"
      ]
     },
     "execution_count": 6,
     "metadata": {},
     "output_type": "execute_result"
    }
   ],
   "source": [
    "max(5,10,15)"
   ]
  },
  {
   "cell_type": "code",
   "execution_count": 7,
   "id": "4054e46c",
   "metadata": {},
   "outputs": [],
   "source": [
    "golf_score = [-3, 0, 2, 30]"
   ]
  },
  {
   "cell_type": "code",
   "execution_count": 8,
   "id": "b12019c5",
   "metadata": {},
   "outputs": [
    {
     "data": {
      "text/plain": [
       "-3"
      ]
     },
     "execution_count": 8,
     "metadata": {},
     "output_type": "execute_result"
    }
   ],
   "source": [
    "min(golf_score)"
   ]
  },
  {
   "cell_type": "code",
   "execution_count": 9,
   "id": "025a5586",
   "metadata": {},
   "outputs": [
    {
     "data": {
      "text/plain": [
       "30"
      ]
     },
     "execution_count": 9,
     "metadata": {},
     "output_type": "execute_result"
    }
   ],
   "source": [
    "max(golf_score)"
   ]
  },
  {
   "cell_type": "code",
   "execution_count": 10,
   "id": "53074065",
   "metadata": {},
   "outputs": [
    {
     "data": {
      "text/plain": [
       "29"
      ]
     },
     "execution_count": 10,
     "metadata": {},
     "output_type": "execute_result"
    }
   ],
   "source": [
    "sum(golf_score)"
   ]
  },
  {
   "cell_type": "code",
   "execution_count": 11,
   "id": "bff139b9",
   "metadata": {
    "scrolled": true
   },
   "outputs": [
    {
     "data": {
      "text/plain": [
       "32"
      ]
     },
     "execution_count": 11,
     "metadata": {},
     "output_type": "execute_result"
    }
   ],
   "source": [
    "sum(golf_score, 3)"
   ]
  },
  {
   "cell_type": "markdown",
   "id": "f8d9fbe1",
   "metadata": {},
   "source": [
    "### Section 6: Strings"
   ]
  },
  {
   "cell_type": "code",
   "execution_count": 1,
   "id": "274e4d3b",
   "metadata": {},
   "outputs": [
    {
     "name": "stdout",
     "output_type": "stream",
     "text": [
      "Mega Blockbuster\n"
     ]
    }
   ],
   "source": [
    "# DEMO string creation\n",
    "\n",
    "movie = 'Mega Blockbuster'\n",
    "\n",
    "print(movie)"
   ]
  },
  {
   "cell_type": "code",
   "execution_count": 3,
   "id": "16acdfe4",
   "metadata": {},
   "outputs": [
    {
     "name": "stdout",
     "output_type": "stream",
     "text": [
      "It's a Mega Blockbuster\n"
     ]
    }
   ],
   "source": [
    "movie = \"It's a Mega Blockbuster\"\n",
    "print(movie)"
   ]
  },
  {
   "cell_type": "code",
   "execution_count": 4,
   "id": "febf5744",
   "metadata": {},
   "outputs": [
    {
     "name": "stdout",
     "output_type": "stream",
     "text": [
      "\"Mega\" Blockbuster\n"
     ]
    }
   ],
   "source": [
    "movie = '\"Mega\" Blockbuster'\n",
    "print(movie)"
   ]
  },
  {
   "cell_type": "code",
   "execution_count": 5,
   "id": "5c53cddd",
   "metadata": {},
   "outputs": [
    {
     "name": "stdout",
     "output_type": "stream",
     "text": [
      "It's a \"Mega\" Blockbuster\n"
     ]
    }
   ],
   "source": [
    "movie = '''It's a \"Mega\" Blockbuster'''\n",
    "print(movie)"
   ]
  },
  {
   "cell_type": "code",
   "execution_count": 7,
   "id": "7de08b0f",
   "metadata": {},
   "outputs": [
    {
     "name": "stdout",
     "output_type": "stream",
     "text": [
      "Mega Blockbuster Was very good\n"
     ]
    }
   ],
   "source": [
    "# arithmetic\n",
    "movie = 'Mega Blockbuster'\n",
    "review = 'Was very good'\n",
    "\n",
    "print(movie + ' ' + review)"
   ]
  },
  {
   "cell_type": "code",
   "execution_count": 8,
   "id": "1201c6cd",
   "metadata": {},
   "outputs": [
    {
     "data": {
      "text/plain": [
       "'Mega BlockbusterMega BlockbusterMega BlockbusterMega Blockbuster'"
      ]
     },
     "execution_count": 8,
     "metadata": {},
     "output_type": "execute_result"
    }
   ],
   "source": [
    "(movie + ' ')* 4"
   ]
  },
  {
   "cell_type": "code",
   "execution_count": 9,
   "id": "2ec74fa3",
   "metadata": {
    "scrolled": true
   },
   "outputs": [
    {
     "data": {
      "text/plain": [
       "'Mega Blockbuster Mega Blockbuster Mega Blockbuster Mega Blockbuster '"
      ]
     },
     "execution_count": 9,
     "metadata": {},
     "output_type": "execute_result"
    }
   ],
   "source": [
    "(movie + ' ')* 4"
   ]
  },
  {
   "cell_type": "code",
   "execution_count": 1,
   "id": "b69326c7",
   "metadata": {},
   "outputs": [
    {
     "data": {
      "text/plain": [
       "'I'"
      ]
     },
     "execution_count": 1,
     "metadata": {},
     "output_type": "execute_result"
    }
   ],
   "source": [
    "# INDEXING\n",
    "\n",
    "movie = \"It's a Mega Blockbuster\"\n",
    "movie[0]"
   ]
  },
  {
   "cell_type": "code",
   "execution_count": 2,
   "id": "2d1675f9",
   "metadata": {},
   "outputs": [
    {
     "data": {
      "text/plain": [
       "'s'"
      ]
     },
     "execution_count": 2,
     "metadata": {},
     "output_type": "execute_result"
    }
   ],
   "source": [
    "movie[3]"
   ]
  },
  {
   "cell_type": "code",
   "execution_count": 3,
   "id": "77f71438",
   "metadata": {},
   "outputs": [
    {
     "data": {
      "text/plain": [
       "'r'"
      ]
     },
     "execution_count": 3,
     "metadata": {},
     "output_type": "execute_result"
    }
   ],
   "source": [
    "movie[-1]"
   ]
  },
  {
   "cell_type": "code",
   "execution_count": 4,
   "id": "aa548067",
   "metadata": {},
   "outputs": [
    {
     "data": {
      "text/plain": [
       "\"It's\""
      ]
     },
     "execution_count": 4,
     "metadata": {},
     "output_type": "execute_result"
    }
   ],
   "source": [
    "# String Slicing\n",
    "\n",
    "movie[0:4]"
   ]
  },
  {
   "cell_type": "code",
   "execution_count": 5,
   "id": "ee3f5cf7",
   "metadata": {},
   "outputs": [
    {
     "data": {
      "text/plain": [
       "' a Mega Blockbuster'"
      ]
     },
     "execution_count": 5,
     "metadata": {},
     "output_type": "execute_result"
    }
   ],
   "source": [
    "# everything after its's\n",
    "movie[4:]"
   ]
  },
  {
   "cell_type": "code",
   "execution_count": 6,
   "id": "f54a20f6",
   "metadata": {},
   "outputs": [
    {
     "data": {
      "text/plain": [
       "\"I'  eaBokutr\""
      ]
     },
     "execution_count": 6,
     "metadata": {},
     "output_type": "execute_result"
    }
   ],
   "source": [
    "# every other character\n",
    "movie[::2]"
   ]
  },
  {
   "cell_type": "code",
   "execution_count": 7,
   "id": "cdee1778",
   "metadata": {},
   "outputs": [
    {
     "data": {
      "text/plain": [
       "\"retsubkcolB ageM a s'tI\""
      ]
     },
     "execution_count": 7,
     "metadata": {},
     "output_type": "execute_result"
    }
   ],
   "source": [
    "# reverse string\n",
    "movie[::-1]"
   ]
  },
  {
   "cell_type": "code",
   "execution_count": 8,
   "id": "245108b8",
   "metadata": {
    "scrolled": true
   },
   "outputs": [
    {
     "data": {
      "text/plain": [
       "'buster'"
      ]
     },
     "execution_count": 8,
     "metadata": {},
     "output_type": "execute_result"
    }
   ],
   "source": [
    "# return buster\n",
    "movie[-6::]"
   ]
  },
  {
   "cell_type": "code",
   "execution_count": 1,
   "id": "44e7c3d9",
   "metadata": {},
   "outputs": [],
   "source": [
    "# String Methods\n",
    "movie = \"It's a Mega Blockbuster!\""
   ]
  },
  {
   "cell_type": "code",
   "execution_count": 2,
   "id": "de042719",
   "metadata": {},
   "outputs": [
    {
     "data": {
      "text/plain": [
       "\"IT'S A MEGA BLOCKBUSTER!\""
      ]
     },
     "execution_count": 2,
     "metadata": {},
     "output_type": "execute_result"
    }
   ],
   "source": [
    "movie.upper()"
   ]
  },
  {
   "cell_type": "code",
   "execution_count": 3,
   "id": "7fdfb2de",
   "metadata": {},
   "outputs": [
    {
     "data": {
      "text/plain": [
       "\"it's a mega blockbuster!\""
      ]
     },
     "execution_count": 3,
     "metadata": {},
     "output_type": "execute_result"
    }
   ],
   "source": [
    "movie.lower() "
   ]
  },
  {
   "cell_type": "code",
   "execution_count": 4,
   "id": "93c6e6f7",
   "metadata": {},
   "outputs": [
    {
     "data": {
      "text/plain": [
       "\"It's a Mega Blockbuster\""
      ]
     },
     "execution_count": 4,
     "metadata": {},
     "output_type": "execute_result"
    }
   ],
   "source": [
    "#remove !\n",
    "\n",
    "movie.strip('!')"
   ]
  },
  {
   "cell_type": "code",
   "execution_count": 5,
   "id": "6a0e8ee9",
   "metadata": {},
   "outputs": [
    {
     "data": {
      "text/plain": [
       "\"It's a Mega Blockbuster.\""
      ]
     },
     "execution_count": 5,
     "metadata": {},
     "output_type": "execute_result"
    }
   ],
   "source": [
    "movie.replace('!','.')"
   ]
  },
  {
   "cell_type": "code",
   "execution_count": 6,
   "id": "fb3a970f",
   "metadata": {},
   "outputs": [
    {
     "data": {
      "text/plain": [
       "[\"It's\", 'a', 'Mega', 'Blockbuster!']"
      ]
     },
     "execution_count": 6,
     "metadata": {},
     "output_type": "execute_result"
    }
   ],
   "source": [
    "movie.split()"
   ]
  },
  {
   "cell_type": "code",
   "execution_count": 9,
   "id": "642a2d35",
   "metadata": {},
   "outputs": [],
   "source": [
    "word_list = movie.split(\"'\")"
   ]
  },
  {
   "cell_type": "code",
   "execution_count": 10,
   "id": "ba464740",
   "metadata": {},
   "outputs": [
    {
     "data": {
      "text/plain": [
       "'Its a Mega Blockbuster!'"
      ]
     },
     "execution_count": 10,
     "metadata": {},
     "output_type": "execute_result"
    }
   ],
   "source": [
    "# join words back together\n",
    "''.join(word_list)"
   ]
  },
  {
   "cell_type": "code",
   "execution_count": 11,
   "id": "ca8187bb",
   "metadata": {},
   "outputs": [
    {
     "data": {
      "text/plain": [
       "'its a mega blockbuster!'"
      ]
     },
     "execution_count": 11,
     "metadata": {},
     "output_type": "execute_result"
    }
   ],
   "source": [
    "movie.lower().replace(\"'\",'')"
   ]
  },
  {
   "cell_type": "code",
   "execution_count": 12,
   "id": "9cbc405b",
   "metadata": {},
   "outputs": [
    {
     "data": {
      "text/plain": [
       "'its a mega blockbuster'"
      ]
     },
     "execution_count": 12,
     "metadata": {},
     "output_type": "execute_result"
    }
   ],
   "source": [
    "movie.lower().replace(\"'\",'').rstrip('!')"
   ]
  },
  {
   "cell_type": "code",
   "execution_count": 13,
   "id": "0bcaddb5",
   "metadata": {},
   "outputs": [],
   "source": [
    "# F strings\n",
    "movie = 'A Mega Blockbuster II'"
   ]
  },
  {
   "cell_type": "code",
   "execution_count": 14,
   "id": "57edd6d7",
   "metadata": {},
   "outputs": [
    {
     "name": "stdout",
     "output_type": "stream",
     "text": [
      "My favorite movie is A Mega Blockbuster II\n"
     ]
    }
   ],
   "source": [
    "print(f\"My favorite movie is {movie}\")"
   ]
  },
  {
   "cell_type": "code",
   "execution_count": 15,
   "id": "a10e422b",
   "metadata": {},
   "outputs": [
    {
     "name": "stdout",
     "output_type": "stream",
     "text": [
      "My favorite movie is A MEGA BLOCKBUSTER II\n"
     ]
    }
   ],
   "source": [
    "print(f\"My favorite movie is {movie.upper()}\")"
   ]
  },
  {
   "cell_type": "markdown",
   "id": "8f30fdeb",
   "metadata": {},
   "source": [
    "### Section 7: Conditional Logic"
   ]
  },
  {
   "cell_type": "code",
   "execution_count": 1,
   "id": "2823bdb5",
   "metadata": {},
   "outputs": [
    {
     "data": {
      "text/plain": [
       "10"
      ]
     },
     "execution_count": 1,
     "metadata": {},
     "output_type": "execute_result"
    }
   ],
   "source": [
    "# Boolean data types & operators\n",
    "10 * True"
   ]
  },
  {
   "cell_type": "code",
   "execution_count": 2,
   "id": "e15e114c",
   "metadata": {},
   "outputs": [
    {
     "data": {
      "text/plain": [
       "0"
      ]
     },
     "execution_count": 2,
     "metadata": {},
     "output_type": "execute_result"
    }
   ],
   "source": [
    "10 * False"
   ]
  },
  {
   "cell_type": "code",
   "execution_count": 3,
   "id": "d40c68ef",
   "metadata": {},
   "outputs": [
    {
     "data": {
      "text/plain": [
       "True"
      ]
     },
     "execution_count": 3,
     "metadata": {},
     "output_type": "execute_result"
    }
   ],
   "source": [
    "'word' == 'word'"
   ]
  },
  {
   "cell_type": "code",
   "execution_count": 4,
   "id": "ba9d4495",
   "metadata": {},
   "outputs": [
    {
     "data": {
      "text/plain": [
       "False"
      ]
     },
     "execution_count": 4,
     "metadata": {},
     "output_type": "execute_result"
    }
   ],
   "source": [
    "'word' == 'WORD'"
   ]
  },
  {
   "cell_type": "code",
   "execution_count": 5,
   "id": "b78a578e",
   "metadata": {},
   "outputs": [
    {
     "data": {
      "text/plain": [
       "False"
      ]
     },
     "execution_count": 5,
     "metadata": {},
     "output_type": "execute_result"
    }
   ],
   "source": [
    "'word' != 'word'"
   ]
  },
  {
   "cell_type": "code",
   "execution_count": 6,
   "id": "8085db7e",
   "metadata": {},
   "outputs": [
    {
     "data": {
      "text/plain": [
       "False"
      ]
     },
     "execution_count": 6,
     "metadata": {},
     "output_type": "execute_result"
    }
   ],
   "source": [
    "len('word') > len('word')"
   ]
  },
  {
   "cell_type": "code",
   "execution_count": 8,
   "id": "67d52afc",
   "metadata": {},
   "outputs": [
    {
     "data": {
      "text/plain": [
       "True"
      ]
     },
     "execution_count": 8,
     "metadata": {},
     "output_type": "execute_result"
    }
   ],
   "source": [
    "len('word') > len('eat')"
   ]
  },
  {
   "cell_type": "code",
   "execution_count": 9,
   "id": "c0db546d",
   "metadata": {},
   "outputs": [
    {
     "data": {
      "text/plain": [
       "True"
      ]
     },
     "execution_count": 9,
     "metadata": {},
     "output_type": "execute_result"
    }
   ],
   "source": [
    "len('word') < len('words')"
   ]
  },
  {
   "cell_type": "code",
   "execution_count": 10,
   "id": "e386508a",
   "metadata": {},
   "outputs": [
    {
     "data": {
      "text/plain": [
       "True"
      ]
     },
     "execution_count": 10,
     "metadata": {},
     "output_type": "execute_result"
    }
   ],
   "source": [
    "'or' in 'word'"
   ]
  },
  {
   "cell_type": "code",
   "execution_count": 12,
   "id": "55e75dc9",
   "metadata": {},
   "outputs": [
    {
     "data": {
      "text/plain": [
       "False"
      ]
     },
     "execution_count": 12,
     "metadata": {},
     "output_type": "execute_result"
    }
   ],
   "source": [
    "'nor' in 'word'"
   ]
  },
  {
   "cell_type": "code",
   "execution_count": 13,
   "id": "b69c1e69",
   "metadata": {},
   "outputs": [],
   "source": [
    "my_list = [1,2,3]"
   ]
  },
  {
   "cell_type": "code",
   "execution_count": 16,
   "id": "5d0b8c79",
   "metadata": {},
   "outputs": [
    {
     "data": {
      "text/plain": [
       "True"
      ]
     },
     "execution_count": 16,
     "metadata": {},
     "output_type": "execute_result"
    }
   ],
   "source": [
    "2 in my_list"
   ]
  },
  {
   "cell_type": "code",
   "execution_count": 18,
   "id": "a50607d9",
   "metadata": {},
   "outputs": [
    {
     "data": {
      "text/plain": [
       "False"
      ]
     },
     "execution_count": 18,
     "metadata": {},
     "output_type": "execute_result"
    }
   ],
   "source": [
    "4 in my_list"
   ]
  },
  {
   "cell_type": "code",
   "execution_count": 19,
   "id": "c09210fa",
   "metadata": {},
   "outputs": [
    {
     "data": {
      "text/plain": [
       "False"
      ]
     },
     "execution_count": 19,
     "metadata": {},
     "output_type": "execute_result"
    }
   ],
   "source": [
    "# AND needs all true statement to return true\n",
    "3 in my_list and 'nor' in 'word'"
   ]
  },
  {
   "cell_type": "code",
   "execution_count": 20,
   "id": "3b18f0d5",
   "metadata": {},
   "outputs": [
    {
     "data": {
      "text/plain": [
       "True"
      ]
     },
     "execution_count": 20,
     "metadata": {},
     "output_type": "execute_result"
    }
   ],
   "source": [
    "# OR needs only one\n",
    "3 in my_list or 'nor' in 'word'"
   ]
  },
  {
   "cell_type": "code",
   "execution_count": 22,
   "id": "db13e139",
   "metadata": {},
   "outputs": [
    {
     "data": {
      "text/plain": [
       "False"
      ]
     },
     "execution_count": 22,
     "metadata": {},
     "output_type": "execute_result"
    }
   ],
   "source": [
    "4 in my_list or ('nor' in 'word' and 'd' in 'word')"
   ]
  },
  {
   "cell_type": "code",
   "execution_count": 23,
   "id": "1d851093",
   "metadata": {
    "scrolled": true
   },
   "outputs": [
    {
     "data": {
      "text/plain": [
       "True"
      ]
     },
     "execution_count": 23,
     "metadata": {},
     "output_type": "execute_result"
    }
   ],
   "source": [
    "4 in my_list or ('nor' in 'word' or 'd' in 'word')"
   ]
  },
  {
   "cell_type": "code",
   "execution_count": 35,
   "id": "abd4d321",
   "metadata": {},
   "outputs": [],
   "source": [
    "# if, Else, Elif\n",
    "\n",
    "customer_id = 'c00013'"
   ]
  },
  {
   "cell_type": "code",
   "execution_count": 25,
   "id": "a6c87330",
   "metadata": {},
   "outputs": [
    {
     "data": {
      "text/plain": [
       "13"
      ]
     },
     "execution_count": 25,
     "metadata": {},
     "output_type": "execute_result"
    }
   ],
   "source": [
    "int(customer_id.strip('c'))"
   ]
  },
  {
   "cell_type": "code",
   "execution_count": 31,
   "id": "37837466",
   "metadata": {},
   "outputs": [
    {
     "name": "stdout",
     "output_type": "stream",
     "text": [
      "You get a small price\n",
      "ok, back to work!\n"
     ]
    }
   ],
   "source": [
    "if int(customer_id.strip('c')) <= 50:\n",
    "    print('You get a big price!')\n",
    "elif int(customer_id.strip('c')) <= 100:\n",
    "    print('You get a small price')\n",
    "else:\n",
    "    print('Sorry, no luck for you')\n",
    "\n",
    "print('ok, back to work!')"
   ]
  },
  {
   "cell_type": "code",
   "execution_count": 34,
   "id": "a6037e55",
   "metadata": {},
   "outputs": [
    {
     "name": "stdout",
     "output_type": "stream",
     "text": [
      "You get a big price!\n",
      "ok, back to work!\n"
     ]
    }
   ],
   "source": [
    "# any that is less than 50 is also less than 100 so the elif will never run\n",
    "\n",
    "if int(customer_id.strip('c')) <= 100:\n",
    "    print('You get a big price!')\n",
    "elif int(customer_id.strip('c')) <= 50:\n",
    "    print('You get a small price')\n",
    "else:\n",
    "    print('Sorry, no luck for you')\n",
    "\n",
    "print('ok, back to work!')"
   ]
  },
  {
   "cell_type": "code",
   "execution_count": 36,
   "id": "5a42fa97",
   "metadata": {},
   "outputs": [
    {
     "name": "stdout",
     "output_type": "stream",
     "text": [
      "You get a small price\n",
      "ok, back to work!\n"
     ]
    }
   ],
   "source": [
    "# add more logic to help\n",
    "\n",
    "if 50 < int(customer_id.strip('c')) <= 100:\n",
    "    print('You get a big price!')\n",
    "elif int(customer_id.strip('c')) <= 50:\n",
    "    print('You get a small price')\n",
    "else:\n",
    "    print('Sorry, no luck for you')\n",
    "\n",
    "print('ok, back to work!')"
   ]
  }
 ],
 "metadata": {
  "kernelspec": {
   "display_name": "Python 3 (ipykernel)",
   "language": "python",
   "name": "python3"
  },
  "language_info": {
   "codemirror_mode": {
    "name": "ipython",
    "version": 3
   },
   "file_extension": ".py",
   "mimetype": "text/x-python",
   "name": "python",
   "nbconvert_exporter": "python",
   "pygments_lexer": "ipython3",
   "version": "3.10.9"
  }
 },
 "nbformat": 4,
 "nbformat_minor": 5
}
