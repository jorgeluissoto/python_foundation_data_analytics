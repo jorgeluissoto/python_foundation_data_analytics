{
 "cells": [
  {
   "cell_type": "markdown",
   "id": "d8645575",
   "metadata": {},
   "source": [
    "#### Assignment: String Indexing"
   ]
  },
  {
   "cell_type": "code",
   "execution_count": null,
   "id": "85eeb545",
   "metadata": {},
   "outputs": [],
   "source": [
    "text1 = '          Your friend Mark'\n",
    "text2 = 'was'\n",
    "text3 = 'having'\n",
    "text4 = 'a great day'\n",
    "text5 = 'on the mountain'"
   ]
  },
  {
   "cell_type": "code",
   "execution_count": null,
   "id": "edba8179",
   "metadata": {
    "scrolled": true
   },
   "outputs": [],
   "source": [
    "maven = text1[-4] + text2[1] + text3[2] + text4[4] + text5[-1]\n",
    "\n",
    "print('The secret password is ' + maven)"
   ]
  },
  {
   "cell_type": "markdown",
   "id": "1b38de6d",
   "metadata": {},
   "source": [
    "#### Assignment: String Slicing"
   ]
  },
  {
   "cell_type": "code",
   "execution_count": null,
   "id": "151da684",
   "metadata": {
    "scrolled": true
   },
   "outputs": [],
   "source": [
    "testimonial = '''I love skiing. It's my favorite hobby.\n",
    "Some people say, \"It's not a hobby, it's life.\"\n",
    "'''"
   ]
  },
  {
   "cell_type": "code",
   "execution_count": null,
   "id": "bd4b6ac3",
   "metadata": {},
   "outputs": [],
   "source": [
    "# Short Testimonial\n",
    "short_testimonial = testimonial[0:23] + testimonial[-7:-2]\n",
    "\n",
    "print(short_testimonial)"
   ]
  },
  {
   "cell_type": "code",
   "execution_count": null,
   "id": "78761eab",
   "metadata": {},
   "outputs": [],
   "source": [
    "# Second Draft\n",
    "happy_customer = short_testimonial[:7] + short_testimonial[-8:-1] + '!'\n",
    "\n",
    "print(happy_customer)"
   ]
  },
  {
   "cell_type": "markdown",
   "id": "13c86eb0",
   "metadata": {},
   "source": [
    "#### Assignment: String Length"
   ]
  },
  {
   "cell_type": "code",
   "execution_count": null,
   "id": "c43b717e",
   "metadata": {},
   "outputs": [],
   "source": [
    "alphabet = 'abcdefghijklmnopqrstuvwxyz'\n",
    "message1 = 'Hello World!'\n",
    "message2 = ''\n",
    "message3 = 'It snowed a lot today'\n",
    "message4 = 'eeee'\n",
    "message5 = 'I love snow!!'"
   ]
  },
  {
   "cell_type": "code",
   "execution_count": null,
   "id": "77d01b71",
   "metadata": {},
   "outputs": [],
   "source": [
    "password = (alphabet[len(message1)]\n",
    "            + alphabet[len(message2)]\n",
    "            + alphabet[len(message3)]\n",
    "            + alphabet[len(message4)]\n",
    "            + alphabet[len(message5)])\n",
    "\n",
    "password"
   ]
  },
  {
   "cell_type": "markdown",
   "id": "e43e84ae",
   "metadata": {},
   "source": [
    "#### Assignment: String Methods"
   ]
  },
  {
   "cell_type": "code",
   "execution_count": null,
   "id": "46151a6c",
   "metadata": {},
   "outputs": [],
   "source": [
    "text1 = '          Your friend Mark'\n",
    "text2 = 'was'\n",
    "text3 = 'having'\n",
    "text4 = 'a great day'\n",
    "text5 = 'on the mountain'"
   ]
  },
  {
   "cell_type": "code",
   "execution_count": null,
   "id": "8bbb9730",
   "metadata": {},
   "outputs": [],
   "source": [
    "# Combine The Texts\n",
    "full_text = text1 + ' ' + text2 + ' ' + text3 + ' ' + text4 + ' ' + text5\n",
    "\n",
    "full_text"
   ]
  },
  {
   "cell_type": "code",
   "execution_count": null,
   "id": "2e4b9e87",
   "metadata": {},
   "outputs": [],
   "source": [
    "# Remove leading spaces and convert to lowercase\n",
    "fixed_text = full_text.strip().lower()\n",
    "fixed_text"
   ]
  },
  {
   "cell_type": "code",
   "execution_count": null,
   "id": "a611d16f",
   "metadata": {},
   "outputs": [],
   "source": [
    "# Change the copy from 'on the mountain' to 'at the ski shop'\n",
    "\n",
    "# method 1 - slice + find\n",
    "new_text = fixed_text[:fixed_text.find('on the mountain')] + 'at the ski shop'\n",
    "new_text"
   ]
  },
  {
   "cell_type": "code",
   "execution_count": null,
   "id": "8727b412",
   "metadata": {},
   "outputs": [],
   "source": [
    "# method 2 - replace\n",
    "new_text = fixed_text.replace('on the mountain', 'at the ski shop')\n",
    "new_text"
   ]
  },
  {
   "cell_type": "code",
   "execution_count": null,
   "id": "81d42462",
   "metadata": {},
   "outputs": [],
   "source": [
    "# The count method will count the number of occurrences of a given string\n",
    "# Counting spaces and adding 1 will get the word count\n",
    "\n",
    "word_count = new_text.count(' ') + 1\n",
    "word_count"
   ]
  },
  {
   "cell_type": "markdown",
   "id": "88ac677d",
   "metadata": {},
   "source": [
    "#### Assignment: F-Strings"
   ]
  },
  {
   "cell_type": "code",
   "execution_count": null,
   "id": "698e1710",
   "metadata": {},
   "outputs": [],
   "source": [
    "# F-strings will help us embed variables in strings\n",
    "price = 499.99\n",
    "product = 'snowboard'\n",
    "\n",
    "print(f'The {product} costs ${price}.')"
   ]
  },
  {
   "cell_type": "code",
   "execution_count": null,
   "id": "38b23ff8",
   "metadata": {},
   "outputs": [],
   "source": [
    "price = 19.99\n",
    "product = 'scarf'\n",
    "\n",
    "print(f'The {product} costs ${price}.')"
   ]
  },
  {
   "cell_type": "code",
   "execution_count": null,
   "id": "02bc9bae",
   "metadata": {},
   "outputs": [],
   "source": []
  }
 ],
 "metadata": {
  "kernelspec": {
   "display_name": "Python 3 (ipykernel)",
   "language": "python",
   "name": "python3"
  },
  "language_info": {
   "codemirror_mode": {
    "name": "ipython",
    "version": 3
   },
   "file_extension": ".py",
   "mimetype": "text/x-python",
   "name": "python",
   "nbconvert_exporter": "python",
   "pygments_lexer": "ipython3",
   "version": "3.9.7"
  }
 },
 "nbformat": 4,
 "nbformat_minor": 5
}
