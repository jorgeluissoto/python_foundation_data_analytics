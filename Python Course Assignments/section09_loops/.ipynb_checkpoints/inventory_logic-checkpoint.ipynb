{
 "cells": [
  {
   "cell_type": "markdown",
   "id": "9a6ec912",
   "metadata": {},
   "source": [
    "### Calculate Projected Inventory for Each Month\n",
    "\n",
    "We currently have 686 pairs of skis in inventory, and sell 84 each month.\n",
    "\n",
    "Write a program that keeps track of monthly inventory, by subtracting 84 pairs of skis from inventory each month. \n",
    "\n",
    "Your program should print 'At the end of month x, we have y pairs of inventory', where x is the number of months that has gone by and y is the remaining inventory at that month.\n",
    "\n",
    "If inventory goes negative, your program should stop running.\n"
   ]
  },
  {
   "cell_type": "code",
   "execution_count": 2,
   "id": "e1fa21a9",
   "metadata": {},
   "outputs": [],
   "source": [
    "current_inventory = 686\n",
    "monthly_sales = 84\n"
   ]
  },
  {
   "cell_type": "code",
   "execution_count": null,
   "id": "fd957674",
   "metadata": {},
   "outputs": [],
   "source": []
  }
 ],
 "metadata": {
  "kernelspec": {
   "display_name": "Python 3 (ipykernel)",
   "language": "python",
   "name": "python3"
  },
  "language_info": {
   "codemirror_mode": {
    "name": "ipython",
    "version": 3
   },
   "file_extension": ".py",
   "mimetype": "text/x-python",
   "name": "python",
   "nbconvert_exporter": "python",
   "pygments_lexer": "ipython3",
   "version": "3.9.7"
  }
 },
 "nbformat": 4,
 "nbformat_minor": 5
}
