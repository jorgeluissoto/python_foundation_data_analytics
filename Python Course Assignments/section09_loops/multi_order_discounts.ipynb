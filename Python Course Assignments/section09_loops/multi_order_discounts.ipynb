{
 "cells": [
  {
   "cell_type": "markdown",
   "id": "8d0a6882",
   "metadata": {},
   "source": [
    "### Apply Discounts for Multi-Order Customers\n",
    "\n",
    "We need to apply a 10% discount to every transaction in the list below.\n",
    "\n",
    "Assign the discounted transactions to a new list: `discounted_prices`."
   ]
  },
  {
   "cell_type": "code",
   "execution_count": null,
   "id": "c8e8c4ee",
   "metadata": {},
   "outputs": [],
   "source": [
    "orders_c00001 = [1799.94, 29.98, 99.99]\n",
    "orders_c00004 = [15.98, 119.99]\n",
    "orders_c00006 = [24.99, 24.99]\n",
    "orders_c00008 = [649.99, 99.99]\n",
    "orders_c00010 = [599.99, 399.97]\n",
    "\n",
    "multi_order_customers = [\n",
    "    [1799.94, 29.98, 99.99],\n",
    "    [15.98, 119.99],\n",
    "    [24.99, 24.99],\n",
    "    [649.99, 99.99],\n",
    "    [599.99, 399.97]\n",
    "]\n",
    "\n",
    "multi_order_customers"
   ]
  },
  {
   "cell_type": "code",
   "execution_count": null,
   "id": "274b47ee",
   "metadata": {
    "scrolled": true
   },
   "outputs": [],
   "source": [
    "discounted_prices = []\n"
   ]
  }
 ],
 "metadata": {
  "kernelspec": {
   "display_name": "Python 3 (ipykernel)",
   "language": "python",
   "name": "python3"
  },
  "language_info": {
   "codemirror_mode": {
    "name": "ipython",
    "version": 3
   },
   "file_extension": ".py",
   "mimetype": "text/x-python",
   "name": "python",
   "nbconvert_exporter": "python",
   "pygments_lexer": "ipython3",
   "version": "3.9.7"
  }
 },
 "nbformat": 4,
 "nbformat_minor": 5
}
