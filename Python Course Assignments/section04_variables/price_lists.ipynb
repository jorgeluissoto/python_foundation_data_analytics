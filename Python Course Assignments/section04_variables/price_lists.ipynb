{
 "cells": [
  {
   "cell_type": "markdown",
   "id": "77abe6dd",
   "metadata": {},
   "source": [
    "### Fix the Variable Names"
   ]
  },
  {
   "cell_type": "code",
   "execution_count": null,
   "id": "3862f08a",
   "metadata": {},
   "outputs": [],
   "source": [
    "# not quite sure how variable naming rules work, I'll keep trying things until the code works"
   ]
  },
  {
   "cell_type": "code",
   "execution_count": null,
   "id": "916adbe4",
   "metadata": {},
   "outputs": [],
   "source": [
    "2018_price_list = [4.99, 8.99, 17.99, 22.99, 94.99] # ok this one isn't working - probably a random bug"
   ]
  },
  {
   "cell_type": "code",
   "execution_count": 2,
   "id": "494b5388",
   "metadata": {},
   "outputs": [],
   "source": [
    "price_list_2018 = [4.99, 8.99, 17.99, 22.99, 94.99] # answer"
   ]
  },
  {
   "cell_type": "code",
   "execution_count": null,
   "id": "9e7352af",
   "metadata": {},
   "outputs": [],
   "source": [
    "price_list_2018 = '[4.99, 8.99, 17.99, 22.99, 94.99]' # oops, didn't mean to add the quotes, can't use this name now"
   ]
  },
  {
   "cell_type": "code",
   "execution_count": null,
   "id": "8b3cb160",
   "metadata": {},
   "outputs": [],
   "source": [
    "price_list_2018 = [4.99, 8.99, 17.99, 22.99, 94.99] # answer"
   ]
  },
  {
   "cell_type": "code",
   "execution_count": null,
   "id": "f86c31f5",
   "metadata": {},
   "outputs": [],
   "source": [
    "prices_FOR_2018 = [4.99, 8.99, 17.99, 22.99, 94.99] # yes! It worked! Very cool, I think i got this now."
   ]
  },
  {
   "cell_type": "code",
   "execution_count": null,
   "id": "9f65f23e",
   "metadata": {},
   "outputs": [],
   "source": [
    "prices_list_2018 = [4.99, 8.99, 17.99, 22.99, 94.99] # answer"
   ]
  },
  {
   "cell_type": "code",
   "execution_count": null,
   "id": "f4cbccf7",
   "metadata": {},
   "outputs": [],
   "source": [
    "price_list-2019 = [5.99, 9.99, 19.99, 24.99, 99.99]  # Why does it think I'm trying to subtract"
   ]
  },
  {
   "cell_type": "code",
   "execution_count": 3,
   "id": "90a3edad",
   "metadata": {},
   "outputs": [],
   "source": [
    "price_list_2019 = [5.99, 9.99, 19.99, 24.99, 99.99]  # answer"
   ]
  },
  {
   "cell_type": "code",
   "execution_count": null,
   "id": "5c92b563",
   "metadata": {},
   "outputs": [],
   "source": [
    "prices = [5.99, 9.99, 19.99, 24.99, 99.99]  # THESE ARE FOR 2019 FYI"
   ]
  },
  {
   "cell_type": "code",
   "execution_count": null,
   "id": "b053b6ad",
   "metadata": {},
   "outputs": [],
   "source": [
    "price_list_2019 = [5.99, 9.99, 19.99, 24.99, 99.99] #answer"
   ]
  },
  {
   "cell_type": "code",
   "execution_count": 4,
   "id": "156d296d",
   "metadata": {},
   "outputs": [],
   "source": [
    "# no idea how to get this one to work, I'll submit this for now and hope my manager fixes it\n",
    "\n",
    "price_list_2020 = [6.49, 10.49, 19.99, 26.99, 104.99]"
   ]
  },
  {
   "cell_type": "code",
   "execution_count": 6,
   "id": "436a567b",
   "metadata": {},
   "outputs": [
    {
     "name": "stdout",
     "output_type": "stream",
     "text": [
      "Variable          Type    Data/Info\n",
      "-----------------------------------\n",
      "price_list_2018   list    n=5\n",
      "price_list_2019   list    n=5\n",
      "price_list_2020   list    n=5\n"
     ]
    }
   ],
   "source": [
    "%whos"
   ]
  }
 ],
 "metadata": {
  "kernelspec": {
   "display_name": "Python 3 (ipykernel)",
   "language": "python",
   "name": "python3"
  },
  "language_info": {
   "codemirror_mode": {
    "name": "ipython",
    "version": 3
   },
   "file_extension": ".py",
   "mimetype": "text/x-python",
   "name": "python",
   "nbconvert_exporter": "python",
   "pygments_lexer": "ipython3",
   "version": "3.10.9"
  }
 },
 "nbformat": 4,
 "nbformat_minor": 5
}
