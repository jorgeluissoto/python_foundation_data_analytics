{
 "cells": [
  {
   "cell_type": "markdown",
   "id": "08595217",
   "metadata": {},
   "source": [
    "### Tax Printing Code Change\n",
    "\n",
    "For your first task, I’d like you to change the code that adds a dollar in tax to our price before printing. \n",
    "The tax will no longer be fixed at one dollar, so:\n",
    "* Create a ‘tax’ variable and assign it a value of 2\n",
    "* Create a ‘total’ variable equal to ‘price’ + ‘tax’\n",
    "* Print ‘total’\n"
   ]
  },
  {
   "cell_type": "code",
   "execution_count": 3,
   "id": "248559ed",
   "metadata": {},
   "outputs": [
    {
     "name": "stdout",
     "output_type": "stream",
     "text": [
      "6\n"
     ]
    }
   ],
   "source": [
    "# Original Tax Code\n",
    "\n",
    "price = 5\n",
    "\n",
    "print(price + 1)"
   ]
  }
 ],
 "metadata": {
  "kernelspec": {
   "display_name": "Python 3 (ipykernel)",
   "language": "python",
   "name": "python3"
  },
  "language_info": {
   "codemirror_mode": {
    "name": "ipython",
    "version": 3
   },
   "file_extension": ".py",
   "mimetype": "text/x-python",
   "name": "python",
   "nbconvert_exporter": "python",
   "pygments_lexer": "ipython3",
   "version": "3.9.7"
  }
 },
 "nbformat": 4,
 "nbformat_minor": 5
}
