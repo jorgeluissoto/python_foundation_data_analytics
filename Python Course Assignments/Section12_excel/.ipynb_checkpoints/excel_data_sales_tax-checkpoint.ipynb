{
 "cells": [
  {
   "cell_type": "markdown",
   "id": "53a15102",
   "metadata": {},
   "source": [
    "### Excel Data Sales Tax\n",
    "\n",
    "We need to calculate the sales tax for customer C00010 in the excel workbook 'maven_ski_shop_data'.\n",
    "\n",
    "Their transaction should be in row 'D10'. Apply a sales tax of 8%. \n",
    "\n",
    "First:\n",
    "\n",
    "* Import the openpyxl library.\n",
    "* Then load the workbook 'maven_ski_shop_data.xlsx' into Python (this is in the current section folder).\n",
    "* Finally, assign a name to the 'Orders_Info' worksheet."
   ]
  },
  {
   "cell_type": "code",
   "execution_count": null,
   "id": "3d9b16c3",
   "metadata": {},
   "outputs": [],
   "source": []
  },
  {
   "cell_type": "markdown",
   "id": "29c10cac",
   "metadata": {},
   "source": [
    "### Sales Tax Calculation\n",
    "\n",
    "Ok, you should be ready to go - calculate the sales tax and total for the transaction in cell D10. \n",
    "\n",
    "Remember we already have a tax calculator function to do this! \n",
    "\n",
    "Consider printing your output with a string message!"
   ]
  },
  {
   "cell_type": "code",
   "execution_count": null,
   "id": "9c21f0e8",
   "metadata": {},
   "outputs": [],
   "source": []
  }
 ],
 "metadata": {
  "kernelspec": {
   "display_name": "Python 3 (ipykernel)",
   "language": "python",
   "name": "python3"
  },
  "language_info": {
   "codemirror_mode": {
    "name": "ipython",
    "version": 3
   },
   "file_extension": ".py",
   "mimetype": "text/x-python",
   "name": "python",
   "nbconvert_exporter": "python",
   "pygments_lexer": "ipython3",
   "version": "3.9.7"
  }
 },
 "nbformat": 4,
 "nbformat_minor": 5
}
