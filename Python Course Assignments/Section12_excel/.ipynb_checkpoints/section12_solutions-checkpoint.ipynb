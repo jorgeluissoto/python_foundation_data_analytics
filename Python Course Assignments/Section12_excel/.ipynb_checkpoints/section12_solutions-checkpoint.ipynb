{
 "cells": [
  {
   "cell_type": "markdown",
   "id": "ce980363",
   "metadata": {},
   "source": [
    "#### Assignment: Navigating Workbooks"
   ]
  },
  {
   "cell_type": "code",
   "execution_count": 1,
   "id": "680869fc",
   "metadata": {},
   "outputs": [],
   "source": [
    "import openpyxl as xl\n",
    "\n",
    "wb = xl.load_workbook(filename=\"maven_ski_shop_data.xlsx\")\n",
    "\n",
    "orders = wb[\"Orders_Info\"]"
   ]
  },
  {
   "cell_type": "code",
   "execution_count": 2,
   "id": "646f853b",
   "metadata": {},
   "outputs": [
    {
     "name": "stdout",
     "output_type": "stream",
     "text": [
      "Sales Tax: $8.0\n",
      "Total: $107.99\n"
     ]
    }
   ],
   "source": [
    "from tax_calculator import tax_calculator\n",
    "\n",
    "transaction = tax_calculator(orders[\"D10\"].value, 0.08)\n",
    "\n",
    "print(\"Sales Tax: $\" + str(round(transaction[1], 2)))\n",
    "print(\"Total: $\" + str(round(transaction[2], 2)))"
   ]
  },
  {
   "cell_type": "markdown",
   "id": "eac78bae",
   "metadata": {},
   "source": [
    "#### Assignment: Writing Data to a Column"
   ]
  },
  {
   "cell_type": "code",
   "execution_count": 3,
   "id": "564d70bd",
   "metadata": {},
   "outputs": [],
   "source": [
    "import openpyxl as xl\n",
    "\n",
    "wb = xl.load_workbook(filename=\"maven_ski_shop_data.xlsx\")\n",
    "\n",
    "items = wb[\"Item_Info\"]"
   ]
  },
  {
   "cell_type": "code",
   "execution_count": 4,
   "id": "08f65316",
   "metadata": {},
   "outputs": [],
   "source": [
    "def currency_converter(price, ex_rate=0.88):\n",
    "    \"\"\"takes in a price and exchange rate and returns converted currency\n",
    "\n",
    "    Args:\n",
    "        price(float, int): price of item to convert\n",
    "        ex_rate (float, optional): exchange rate to convert price with\n",
    "\n",
    "    Returns:\n",
    "        float: converted price\n",
    "    \"\"\"\n",
    "    return round(price * ex_rate, 2)"
   ]
  },
  {
   "cell_type": "code",
   "execution_count": 5,
   "id": "99792563",
   "metadata": {},
   "outputs": [],
   "source": [
    "# range method on British Pounds\n",
    "pound_exchange_rate = 0.76\n",
    "\n",
    "items[\"G1\"] = \"GBP Price\"\n",
    "\n",
    "for row in range(2, items.max_row + 1):\n",
    "    items[\"G\" + str(row)] = currency_converter(\n",
    "        items[\"C\" + str(row)].value, pound_exchange_rate\n",
    "    )"
   ]
  },
  {
   "cell_type": "code",
   "execution_count": 6,
   "id": "ec4abdd9",
   "metadata": {},
   "outputs": [],
   "source": [
    "# enumerate method for Japanese Yen\n",
    "yen_exchange_rate = 123\n",
    "\n",
    "for index, cell in enumerate(items[\"C\"], start=1):\n",
    "    if index == 1:\n",
    "        items[f'H{index}'] = \"JPY Price\"\n",
    "    else:\n",
    "        items[f'H{index}'] = currency_converter(\n",
    "            cell.value, yen_exchange_rate\n",
    "        )"
   ]
  },
  {
   "cell_type": "code",
   "execution_count": 7,
   "id": "5a1cab2a",
   "metadata": {},
   "outputs": [],
   "source": [
    "# commented out save workbook code - uncomment to save\n",
    "# just make sure you're not overwriting anything you don't want to!\n",
    "\n",
    "# wb.save('maven_data_new_pricing.xlsx')"
   ]
  },
  {
   "cell_type": "code",
   "execution_count": null,
   "id": "a1d1a6ac",
   "metadata": {},
   "outputs": [],
   "source": []
  }
 ],
 "metadata": {
  "kernelspec": {
   "display_name": "Python 3 (ipykernel)",
   "language": "python",
   "name": "python3"
  },
  "language_info": {
   "codemirror_mode": {
    "name": "ipython",
    "version": 3
   },
   "file_extension": ".py",
   "mimetype": "text/x-python",
   "name": "python",
   "nbconvert_exporter": "python",
   "pygments_lexer": "ipython3",
   "version": "3.9.7"
  }
 },
 "nbformat": 4,
 "nbformat_minor": 5
}
