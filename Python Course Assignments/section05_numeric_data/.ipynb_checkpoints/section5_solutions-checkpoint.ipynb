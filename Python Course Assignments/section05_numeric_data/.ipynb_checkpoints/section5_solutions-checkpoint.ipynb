{
 "cells": [
  {
   "cell_type": "markdown",
   "id": "cba48e10",
   "metadata": {},
   "source": [
    "#### Assignment: Arithmetic Operators"
   ]
  },
  {
   "cell_type": "code",
   "execution_count": 1,
   "id": "6174f02a",
   "metadata": {},
   "outputs": [],
   "source": [
    "snowboard_price = 499.99\n",
    "snowboard_cost = 199.99"
   ]
  },
  {
   "cell_type": "code",
   "execution_count": 2,
   "id": "7a74c3bc",
   "metadata": {},
   "outputs": [
    {
     "data": {
      "text/plain": [
       "300.0"
      ]
     },
     "execution_count": 2,
     "metadata": {},
     "output_type": "execute_result"
    }
   ],
   "source": [
    "gross_profit = snowboard_price - snowboard_cost\n",
    "\n",
    "gross_profit"
   ]
  },
  {
   "cell_type": "code",
   "execution_count": 3,
   "id": "d268cc14",
   "metadata": {},
   "outputs": [
    {
     "data": {
      "text/plain": [
       "0.6000120002400048"
      ]
     },
     "execution_count": 3,
     "metadata": {},
     "output_type": "execute_result"
    }
   ],
   "source": [
    "gross_margin = gross_profit/snowboard_price\n",
    "\n",
    "gross_margin"
   ]
  },
  {
   "cell_type": "code",
   "execution_count": 4,
   "id": "bbbdb66a",
   "metadata": {},
   "outputs": [
    {
     "data": {
      "text/plain": [
       "666.6333333333332"
      ]
     },
     "execution_count": 4,
     "metadata": {},
     "output_type": "execute_result"
    }
   ],
   "source": [
    "desired_margin = .7\n",
    "\n",
    "price_needed_for_70 = snowboard_cost / (1 - desired_margin)\n",
    "\n",
    "price_needed_for_70"
   ]
  },
  {
   "cell_type": "code",
   "execution_count": 5,
   "id": "a234de19",
   "metadata": {},
   "outputs": [
    {
     "data": {
      "text/plain": [
       "39.9992"
      ]
     },
     "execution_count": 5,
     "metadata": {},
     "output_type": "execute_result"
    }
   ],
   "source": [
    "tax_rate = .08\n",
    "\n",
    "sales_tax = tax_rate * snowboard_price\n",
    "\n",
    "sales_tax"
   ]
  },
  {
   "cell_type": "code",
   "execution_count": 6,
   "id": "741ab694",
   "metadata": {},
   "outputs": [
    {
     "data": {
      "text/plain": [
       "1575.0"
      ]
     },
     "execution_count": 6,
     "metadata": {},
     "output_type": "execute_result"
    }
   ],
   "source": [
    "# calculate 5x the profit on selling a snowboard\n",
    "amount_invested = 5 * gross_profit\n",
    "\n",
    "interest_rate = .05\n",
    "\n",
    "amount_after_1yr = amount_invested + (amount_invested * interest_rate)\n",
    "\n",
    "amount_after_1yr"
   ]
  },
  {
   "cell_type": "markdown",
   "id": "355e1643",
   "metadata": {},
   "source": [
    "#### Assignment: Numeric Functions"
   ]
  },
  {
   "cell_type": "code",
   "execution_count": 7,
   "id": "7e774e3e",
   "metadata": {},
   "outputs": [
    {
     "name": "stdout",
     "output_type": "stream",
     "text": [
      "49.99 129.99\n"
     ]
    }
   ],
   "source": [
    "# Use Min and Max functions to get largest value in a sequence\n",
    "\n",
    "price_list = [129.99, 99.99, 119.19, 99.99, 89.99, 79.99, 49.99]\n",
    "\n",
    "lowest_price = min(price_list)\n",
    "highest_price = max(price_list)\n",
    "\n",
    "print(lowest_price, highest_price)"
   ]
  },
  {
   "cell_type": "code",
   "execution_count": 8,
   "id": "416401e2",
   "metadata": {},
   "outputs": [
    {
     "data": {
      "text/plain": [
       "1338"
      ]
     },
     "execution_count": 8,
     "metadata": {},
     "output_type": "execute_result"
    }
   ],
   "source": [
    "# Determine cost of purchasing 2x of every item\n",
    "# Calculate cost of purchasing every item by summing price list, multiply by 2\n",
    "\n",
    "round(2 * sum(price_list))"
   ]
  },
  {
   "cell_type": "code",
   "execution_count": null,
   "id": "4fc3191d",
   "metadata": {},
   "outputs": [],
   "source": []
  }
 ],
 "metadata": {
  "kernelspec": {
   "display_name": "Python 3 (ipykernel)",
   "language": "python",
   "name": "python3"
  },
  "language_info": {
   "codemirror_mode": {
    "name": "ipython",
    "version": 3
   },
   "file_extension": ".py",
   "mimetype": "text/x-python",
   "name": "python",
   "nbconvert_exporter": "python",
   "pygments_lexer": "ipython3",
   "version": "3.9.7"
  }
 },
 "nbformat": 4,
 "nbformat_minor": 5
}
