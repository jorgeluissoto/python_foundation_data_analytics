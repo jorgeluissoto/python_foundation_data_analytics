{
 "cells": [
  {
   "cell_type": "code",
   "execution_count": null,
   "id": "c4579ad4",
   "metadata": {},
   "outputs": [],
   "source": [
    "customer_ids = set(value['customer_id'] for value in order_dict.values())\n",
    "total_revenue = sum([value['total'] for value in order_dict.values()])\n",
    "\n",
    "customer_totals = {}\n",
    "for customer in customer_ids:\n",
    "        orders = []\n",
    "        revenue = 0\n",
    "        items_ordered = []\n",
    "        dates = []\n",
    "        for key, value in order_dict.items():\n",
    "            if customer == value['customer_id']:\n",
    "                orders += [key]\n",
    "                revenue += value['total']\n",
    "                dates.append(value['order_date'])\n",
    "                items_ordered += value['items_ordered']\n",
    "        customer_totals[customer] = {'total_orders' : len(orders),\n",
    "                                     'unique_dates' : len(dates),\n",
    "                                     'revenue':revenue, \n",
    "                                     'revenue_pct' : round(revenue/total_revenue * 100, 1),\n",
    "                                     'items_ordered' : items_ordered,\n",
    "                                     'items_ordered_count' : len(items_ordered),\n",
    "                                     'unique_items_ordered_count' : len(set(items_ordered))\n",
    "                                     }\n",
    "customer_totals"
   ]
  },
  {
   "cell_type": "code",
   "execution_count": null,
   "id": "5a7897f1",
   "metadata": {},
   "outputs": [],
   "source": [
    "customer_ids = set(value['customer_id'] for value in order_dict.values())\n",
    "total_revenue = sum([value['total'] for value in order_dict.values()])\n",
    "total_revenue"
   ]
  },
  {
   "cell_type": "code",
   "execution_count": null,
   "id": "d510b751",
   "metadata": {},
   "outputs": [],
   "source": [
    "top3 = sorted([value['revenue'] for value in customer_totals.values()], reverse=True)[:3]\n",
    "top3"
   ]
  },
  {
   "cell_type": "code",
   "execution_count": null,
   "id": "aa161394",
   "metadata": {},
   "outputs": [],
   "source": [
    "total_rev = 0\n",
    "total_pct = 0\n",
    "for revenue in top3:\n",
    "    for key,value in customer_totals.items():\n",
    "        if revenue == value['revenue']:\n",
    "            total_rev += value['revenue']\n",
    "            total_pct += value['revenue_pct']\n",
    "            print(f'{key} had ${round(revenue,2)} in sales')\n",
    "            \n",
    "print(f'The top three customers accounted for ${round(total_rev,2)}, or %{total_pct} of sales.')\n"
   ]
  },
  {
   "cell_type": "code",
   "execution_count": null,
   "id": "29a542cd",
   "metadata": {},
   "outputs": [],
   "source": [
    "c00001_items = set(customer_totals['C00001']['items_ordered'])\n",
    "c00018_items = set(customer_totals['C00018']['items_ordered'])\n",
    "c00010_items = set(customer_totals['C00010']['items_ordered'])"
   ]
  },
  {
   "cell_type": "code",
   "execution_count": null,
   "id": "6a408f5b",
   "metadata": {},
   "outputs": [],
   "source": [
    "c00001_items.intersection(c00018_items.intersection(c00010_items))"
   ]
  },
  {
   "cell_type": "code",
   "execution_count": null,
   "id": "85878434",
   "metadata": {},
   "outputs": [],
   "source": [
    "def column_writer(sheet, column, column_name, data):\n",
    "    ws[f'{column}1'].value = column_name\n",
    "    for row in range(2, len(data)+2):\n",
    "        sheet[f'{column}{row}'].value = data[row-2]"
   ]
  },
  {
   "cell_type": "code",
   "execution_count": null,
   "id": "c366032d",
   "metadata": {},
   "outputs": [],
   "source": [
    "# order_ids = [orders[f'A{order}'].value for order in range(2, orders.max_row + 1)]"
   ]
  }
 ],
 "metadata": {
  "kernelspec": {
   "display_name": "Python 3 (ipykernel)",
   "language": "python",
   "name": "python3"
  },
  "language_info": {
   "codemirror_mode": {
    "name": "ipython",
    "version": 3
   },
   "file_extension": ".py",
   "mimetype": "text/x-python",
   "name": "python",
   "nbconvert_exporter": "python",
   "pygments_lexer": "ipython3",
   "version": "3.9.7"
  }
 },
 "nbformat": 4,
 "nbformat_minor": 5
}
