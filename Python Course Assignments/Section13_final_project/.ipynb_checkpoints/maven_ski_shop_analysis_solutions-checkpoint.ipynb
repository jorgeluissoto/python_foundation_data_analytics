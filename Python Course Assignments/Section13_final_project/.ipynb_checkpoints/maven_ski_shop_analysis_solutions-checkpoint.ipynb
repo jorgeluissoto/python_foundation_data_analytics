{
 "cells": [
  {
   "cell_type": "markdown",
   "id": "2d7d830c",
   "metadata": {},
   "source": [
    "# Final Project: Black Friday Excel Data"
   ]
  },
  {
   "cell_type": "code",
   "execution_count": null,
   "id": "59343dde",
   "metadata": {},
   "outputs": [],
   "source": [
    "import openpyxl as xl\n",
    "from tax_calculator import tax_calculator\n",
    "from pprint import pprint"
   ]
  },
  {
   "cell_type": "markdown",
   "id": "b323bd31",
   "metadata": {},
   "source": [
    "## Part 1\n",
    "\n",
    "First, read in maven_ski_shop_data.xlsx\n",
    "\n",
    "Then, the orders worksheet to an intuitive variable name. "
   ]
  },
  {
   "cell_type": "code",
   "execution_count": null,
   "id": "d4407995",
   "metadata": {},
   "outputs": [],
   "source": [
    "wb = xl.load_workbook(filename='maven_ski_shop_data.xlsx')\n",
    "\n",
    "orders = wb['Orders_Info']"
   ]
  },
  {
   "cell_type": "markdown",
   "id": "0fdff76c",
   "metadata": {},
   "source": [
    "### Column Printer Function\n",
    "\n",
    "Since we'll be working with Excel frequently, let's create a helper function to print all the rows a specified column.\n",
    "\n",
    "This will help us view imported data without looking at Excel, and review the data we've written into columns without needing to save a file to review the changes.\n",
    "\n",
    "Your function should take two arguments:\n",
    "\n",
    "* Worksheet where data is located\n",
    "* Column Letter of data to print\n",
    "\n",
    "Your function should:\n",
    "\n",
    "* Print Cell Coordinate (e.g. A1, D4).\n",
    "* Print the contents of the cell.\n",
    "\n",
    "Then call your function twice:\n",
    "\n",
    "* Once to print Order ID (column A in 'Orders_Info')\n",
    "* Once to print subtotal (column C in 'Orders_Info')"
   ]
  },
  {
   "cell_type": "code",
   "execution_count": null,
   "id": "239d64b3",
   "metadata": {},
   "outputs": [],
   "source": [
    "# Loop through specified sheet and column - through cells with range\n",
    "# use f-strings to navigate to cells\n",
    "\n",
    "def column_printer(sheet, column):\n",
    "    for i in range(1, sheet.max_row + 1):\n",
    "        print(f'{column}{i}', sheet[f'{column}{i}'].value)"
   ]
  },
  {
   "cell_type": "code",
   "execution_count": null,
   "id": "68548e80",
   "metadata": {},
   "outputs": [],
   "source": [
    "# Loop through specified sheet and column - looping through column\n",
    "# use f-strings to navigate to cells\n",
    "\n",
    "def column_printer(sheet, column):\n",
    "    for cell in sheet[column]:\n",
    "        print(f'{cell.coordinate}', sheet[cell.coordinate].value)"
   ]
  },
  {
   "cell_type": "code",
   "execution_count": null,
   "id": "8146bf34",
   "metadata": {},
   "outputs": [],
   "source": [
    "# column_printer(orders, 'A')"
   ]
  },
  {
   "cell_type": "code",
   "execution_count": null,
   "id": "53c0081c",
   "metadata": {},
   "outputs": [],
   "source": [
    "# column_printer(orders, 'D')"
   ]
  },
  {
   "cell_type": "markdown",
   "id": "b4b6d8ea",
   "metadata": {},
   "source": [
    "### Order Data Dictionary\n",
    "\n",
    "Create a dictionary with all of the information contained in the 'Orders_Info' Worksheet.\n",
    "\n",
    "* The dictionary keys should be Order IDs (Column A)\n",
    "* The values should a list storing the data in the rest of the columns.\n",
    "* The columns in the list stored as values should be B, C, D, G, and H (after converting to list). \n",
    "* For example: The first order, column H should be the nested list: [10001, 10002]\n",
    "\n",
    "\n",
    "A few notes:\n",
    "\n",
    "* Convert the Items_Ordered field into a list (we covered a helpful string method for this)\n",
    "* This can be done with a dictionary comprehension\n",
    "* DO NOT INCLUDE EXCEL COLUMN HEADERS"
   ]
  },
  {
   "cell_type": "code",
   "execution_count": null,
   "id": "78c7cdd2",
   "metadata": {},
   "outputs": [],
   "source": [
    "# Dictionary Comprehension with Order_ID as Keys, rest of data as values stored in list\n",
    "# Use split on ', ' to create a list out of column H text\n",
    "\n",
    "order_dict = {\n",
    "    orders[f'A{order}'].value:[\n",
    "        orders[f'B{order}'].value,\n",
    "        orders[f'C{order}'].value,\n",
    "        orders[f'D{order}'].value,\n",
    "        orders[f'G{order}'].value,\n",
    "        str(orders[f'H{order}'].value).split(', ')\n",
    "    ]\n",
    "    for order in range(2, orders.max_row + 1)\n",
    "}\n",
    "\n",
    "# pprint(order_dict)"
   ]
  },
  {
   "cell_type": "markdown",
   "id": "0a01af28",
   "metadata": {},
   "source": [
    "### Sales Tax Calculation (Last time!)\n",
    "\n",
    "We need to calculate the sales tax and total amount owed for every order in this sheet.\n",
    "\n",
    "* If location is Sun Valley, apply a sales tax of 8%\n",
    "* If location is Mammoth, apply a sales tax of 7.75%.\n",
    "* If location is Stowe, apply a sales tax of 6%\n",
    "\n",
    "Use the tax_calculator function to apply sales tax to each subtotal.\n",
    "\n",
    "**Insert** the calculated sales tax and total amounts into your customer dictionary. \n",
    "\n",
    "**Tip**: Figure out how to do this once and then loop through the column."
   ]
  },
  {
   "cell_type": "code",
   "execution_count": null,
   "id": "4e1c1e6a",
   "metadata": {
    "scrolled": false
   },
   "outputs": [],
   "source": [
    "# import tax calculator\n",
    "from tax_calculator import tax_calculator\n",
    "\n",
    "# Loop through dictionary values\n",
    "# Check location (index 3)\n",
    "# Use conditional logic to call sales tax function\n",
    "# with tax rate based on location. \n",
    "# Then insert tax and total into dictionary at specified location\n",
    "\n",
    "for order in order_dict.values():\n",
    "    if order[3] == 'Sun Valley':\n",
    "        transaction = tax_calculator(order[2], .08)\n",
    "    elif order[3] == 'Mammoth':\n",
    "        transaction = tax_calculator(order[2], .0775)\n",
    "    else:\n",
    "        transaction = tax_calculator(order[2], .06)\n",
    "    order.insert(3, transaction[1])\n",
    "    order.insert(4, transaction[2])\n",
    "    \n",
    "pprint(order_dict)"
   ]
  },
  {
   "cell_type": "markdown",
   "id": "5d3460da",
   "metadata": {},
   "source": [
    "### Write Sales Tax and Total Into the Excel Sheet\n",
    "\n",
    "\n",
    "Great job! Now we just need to write this data into the workbook.\n",
    "\n",
    "Write the sales tax and total you just calculated into the workbook, then save!\n",
    "\n",
    "Call this workbook 'maven_ski_shop_data_fixed'.\n",
    "\n",
    "**Tip:** There are a few ways to do this. As always, be patient, solve one step at a time."
   ]
  },
  {
   "cell_type": "code",
   "execution_count": null,
   "id": "957e2656",
   "metadata": {},
   "outputs": [],
   "source": [
    "# iterate through order_dict\n",
    "# set start point to 2: + 1 to handle 0 indexing, + 1 to skip header\n",
    "for index, order in enumerate(order_dict.values(), start=2): \n",
    "    orders[f'E{index}'] = order[3]\n",
    "    orders[f'F{index}'] = order[4]"
   ]
  },
  {
   "cell_type": "code",
   "execution_count": null,
   "id": "0ed681d9",
   "metadata": {},
   "outputs": [],
   "source": [
    "# write sales tax and total into workbook\n",
    "\n",
    "wb.save('maven_ski_shop_data_fixed.xlsx')"
   ]
  },
  {
   "cell_type": "markdown",
   "id": "328ba670",
   "metadata": {},
   "source": [
    "## Part 2\n",
    "\n",
    "### Analysis Time!\n",
    "\n",
    "\n",
    "Now that we've fixed the data - it's time to perform analysis on our sales.\n",
    "\n",
    "Our starting point will be the order_dict we created, after we added the taxes and totals columns.\n",
    "\n",
    "Our first step will be to write a function that calculates the sum of a 'column' of data in our dictionary.\n",
    "\n",
    "A 'column' for example, would be subtotals, which is at index 2 in the list stored as our dictionary values.\n",
    "\n",
    "Your function should take the following arguments:\n",
    "\n",
    "* Column Index\n",
    "* Dictionary Name\n",
    "\n",
    "It should output:\n",
    "\n",
    "* The sum of values in the column (rounded to two decimal places)\n",
    "\n",
    "Assume only numeric values will be in the column (You can develop cleaning logic later :D)\n",
    "\n",
    "**Tip:** Use a list comprehension to retrieve the values of interest."
   ]
  },
  {
   "cell_type": "code",
   "execution_count": null,
   "id": "284693e9",
   "metadata": {},
   "outputs": [],
   "source": [
    "# Use a list comprehension to grab all elements at a given index\n",
    "# in all the dictionary values (which are lists)\n",
    "\n",
    "def column_sum(column_index, dictionary):\n",
    "    return round(sum([value[column_index] for value in dictionary.values()]), 2)"
   ]
  },
  {
   "cell_type": "markdown",
   "id": "d83413fe",
   "metadata": {},
   "source": [
    "#### Sum The Subtotal, Tax, and Total Columns \n",
    "\n",
    "Now that we have our column sum function, calculate the sum of:\n",
    "\n",
    "* Subtotals\n",
    "* Taxes\n",
    "* Totals"
   ]
  },
  {
   "cell_type": "code",
   "execution_count": null,
   "id": "f96d2f45",
   "metadata": {
    "scrolled": true
   },
   "outputs": [],
   "source": [
    "# column index variable names\n",
    "print(column_sum(2, order_dict))\n",
    "print(column_sum(3, order_dict))\n",
    "print(column_sum(4, order_dict))"
   ]
  },
  {
   "cell_type": "markdown",
   "id": "b2720242",
   "metadata": {},
   "source": [
    "### What is the average of our subtotals?\n",
    "\n",
    "Calculate the average value of our transactions.\n",
    "\n",
    "Remember that each entry in your dictionary is one order."
   ]
  },
  {
   "cell_type": "code",
   "execution_count": null,
   "id": "482c67e9",
   "metadata": {},
   "outputs": [],
   "source": [
    "# Sum column and divide by number of orders \n",
    "# We can use len() on our dictionary as each entry is 1 order\n",
    "round(column_sum(2, order_dict) / len(order_dict), 2)"
   ]
  },
  {
   "cell_type": "code",
   "execution_count": null,
   "id": "1aa1093a",
   "metadata": {},
   "outputs": [],
   "source": [
    "# average transaction without function\n",
    "# Use a list comprehension to collect all subtotals, \n",
    "# then sum and divide by the length\n",
    "\n",
    "subtotals = [value[2] for value in order_dict.values()]\n",
    "\n",
    "round(sum(subtotals) / len(subtotals), 2)"
   ]
  },
  {
   "cell_type": "markdown",
   "id": "fa8f7168",
   "metadata": {},
   "source": [
    "### How many unique customers did we have?\n",
    "\n",
    "Calculate the total number of unique customers in our sales data.\n",
    "\n",
    "Then calculate the number of orders per customer (total orders/ unique customers)."
   ]
  },
  {
   "cell_type": "code",
   "execution_count": null,
   "id": "7af182d6",
   "metadata": {},
   "outputs": [],
   "source": [
    "# Use a list to get all customer_Ids, create a set to return only unique\n",
    "# then use len to return count of unique customers\n",
    "unique_customers = len(set([value[0] for value in order_dict.values()]))\n",
    "\n",
    "# divide total number of orders by unique customers\n",
    "orders_per_customer = len(order_dict) / unique_customers\n",
    "\n",
    "print(unique_customers, orders_per_customer)"
   ]
  },
  {
   "cell_type": "markdown",
   "id": "ff483459",
   "metadata": {},
   "source": [
    "### How many items in total did we sell?\n",
    "\n",
    "Calculate the total number of items we sold in across all orders. \n",
    "\n",
    "This information is in Column H, which should be the last element in order_dict's values."
   ]
  },
  {
   "cell_type": "code",
   "execution_count": null,
   "id": "2f7d15ac",
   "metadata": {},
   "outputs": [],
   "source": [
    "# Use a list comprehension to get the length of items ordered\n",
    "# for each order (the length equals number of products), then sum\n",
    "sum([len(value[6]) for value in order_dict.values()])"
   ]
  },
  {
   "cell_type": "markdown",
   "id": "05abd311",
   "metadata": {},
   "source": [
    "### Sales By Location\n",
    "\n",
    "Calculate the sum of subtotals by location.\n",
    "\n",
    "Create a dictionary to store them, where location is the key, and revenue for that location is the value.\n",
    "\n",
    "A few steps to consider:\n",
    "\n",
    "* Loop through you dictionary\n",
    "* build a dictionary as you go with location as key\n",
    "* increment revenue every time a transaction matches the location.\n",
    "\n",
    "\n",
    "Your output should look like \n",
    "{'Location1': sum of subtotals for 'Location1'}\n",
    "\n",
    "With an entry for each location."
   ]
  },
  {
   "cell_type": "code",
   "execution_count": null,
   "id": "7ea701a9",
   "metadata": {},
   "outputs": [],
   "source": [
    "# create empty dictionary\n",
    "location_sums = {}\n",
    "\n",
    "# loop through dictionary values\n",
    "for data in order_dict.values():\n",
    "    \n",
    "    # set location variable \n",
    "    location = data[5]\n",
    "    \n",
    "    # if that location is not yet in location_sums\n",
    "    if location not in location_sums:\n",
    "        \n",
    "        # create dictionary entry\n",
    "        location_sums[location] = 0\n",
    "        \n",
    "    # Then increment by subtotal\n",
    "    location_sums[location] += data[2]\n",
    "        \n",
    "location_sums"
   ]
  },
  {
   "cell_type": "markdown",
   "id": "a9ffa683",
   "metadata": {},
   "source": [
    "### Challenge: Aggregator Function\n",
    "\n",
    "Now that you've summed revenue by category, can you write a function to generalize calculating a sum of a column, grouped by the unique values in another column? (for example, sum of totals by date or customer_id).\n",
    "\n",
    "Your function should take the following arguments:\n",
    "* index of the 'column' (index position in order_dict) to group by\n",
    "* index of the 'column' (index position in order_dict) to sum by category\n",
    "* the dictionary where the data is located (assume the same structure as order_dict.\n",
    "\n",
    "It should return:\n",
    "* A dictionary with the categories as keys, and the sum by category as value.\n",
    "\n",
    "Once you've done so use your function to sum totals by date and customer_id."
   ]
  },
  {
   "cell_type": "code",
   "execution_count": null,
   "id": "32c8ca53",
   "metadata": {},
   "outputs": [],
   "source": [
    "def aggregator(category_index, field_to_sum_index, dictionary):\n",
    "    # build empty dictionary\n",
    "    category_sums = {}\n",
    "    \n",
    "    # loop through dictionary values\n",
    "    for data in dictionary.values():\n",
    "        \n",
    "        # assign the category of interest in that entry\n",
    "        category = data[category_index]\n",
    "        \n",
    "        # if that category is not in our dictionary, add it\n",
    "        if category not in category_sums:\n",
    "            # start revenue at 0\n",
    "            category_sums[category] = 0\n",
    "        # then increment category revenue    \n",
    "        category_sums[category] += data[field_to_sum_index]\n",
    "    # once we've looped through dictionary, return the category_sums    \n",
    "    return category_sums"
   ]
  },
  {
   "cell_type": "markdown",
   "id": "2f1f6a9c",
   "metadata": {},
   "source": [
    "For fun, if you got tired of looking up indices, you could assign your indices names. In libraries like Pandas we'll be able to reference DataFrame column names or indices.\n",
    "\n",
    "Here we're unpacking a tuple to name our column indices"
   ]
  },
  {
   "cell_type": "code",
   "execution_count": null,
   "id": "b034d599",
   "metadata": {},
   "outputs": [],
   "source": [
    "# for fun, if you got tired of looking up indices, you could \n",
    "# assign your indices names\n",
    "# Here we're unpacking a tuple to name our column indices\n",
    "customer_id, date, subtotals, taxes, totals, location, items_sold = (0, 1, 2, 3, 4, 5, 6)\n",
    "\n",
    "# Function call with numeric indices\n",
    "aggregator(1, 2, order_dict)"
   ]
  },
  {
   "cell_type": "code",
   "execution_count": null,
   "id": "92703b3d",
   "metadata": {},
   "outputs": [],
   "source": [
    "# Function call with 'named' indices\n",
    "aggregator(customer_id, totals, order_dict)"
   ]
  }
 ],
 "metadata": {
  "kernelspec": {
   "display_name": "Python 3 (ipykernel)",
   "language": "python",
   "name": "python3"
  },
  "language_info": {
   "codemirror_mode": {
    "name": "ipython",
    "version": 3
   },
   "file_extension": ".py",
   "mimetype": "text/x-python",
   "name": "python",
   "nbconvert_exporter": "python",
   "pygments_lexer": "ipython3",
   "version": "3.9.7"
  }
 },
 "nbformat": 4,
 "nbformat_minor": 5
}
