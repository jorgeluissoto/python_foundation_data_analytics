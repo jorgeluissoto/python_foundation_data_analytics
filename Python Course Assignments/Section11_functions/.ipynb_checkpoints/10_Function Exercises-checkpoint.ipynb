{
 "cells": [
  {
   "cell_type": "code",
   "execution_count": null,
   "id": "91e4f316",
   "metadata": {},
   "outputs": [],
   "source": []
  },
  {
   "cell_type": "code",
   "execution_count": null,
   "id": "43092cd7",
   "metadata": {},
   "outputs": [],
   "source": [
    "# Create a function to apply sales tax to a subtotal. Have the function return the total amount after tax\n"
   ]
  },
  {
   "cell_type": "code",
   "execution_count": null,
   "id": "5a06eccd",
   "metadata": {},
   "outputs": [],
   "source": [
    "def tax_calculator(subtotal , sales_tax):\n",
    "    '''\n",
    "    arguments = subtotal (numeric), sales_Tax (numeric)\n",
    "    This function calculates a sales total calculating the sales\n",
    "    tax on a subtotal and adding it to the subtotal.\n",
    "    '''\n",
    "    total = subtotal + subtotal * sales_tax\n",
    "\n",
    "    return total\n",
    "    \n",
    "tax_calculator(100, .09)"
   ]
  },
  {
   "cell_type": "code",
   "execution_count": null,
   "id": "c98a4e0f",
   "metadata": {},
   "outputs": [],
   "source": [
    "tax_calculator(100, .09)"
   ]
  },
  {
   "cell_type": "code",
   "execution_count": null,
   "id": "7d354413",
   "metadata": {},
   "outputs": [],
   "source": [
    "tax_calculator?"
   ]
  },
  {
   "cell_type": "code",
   "execution_count": null,
   "id": "91a04f9c",
   "metadata": {},
   "outputs": [],
   "source": [
    "# Let's set the default rate to .06 since most of our sales are in Vermont\n",
    "\n",
    "def tax_calculator(subtotal , sales_tax = .06):\n",
    "    '''\n",
    "    arguments = subtotal (numeric), sales_Tax (numeric)\n",
    "    This function calculates a sales total calculating the sales\n",
    "    tax on a subtotal and adding it to the subtotal.\n",
    "    '''\n",
    "    total = subtotal + subtotal * sales_tax\n",
    "\n",
    "    return total\n",
    "    \n",
    "tax_calculator(100)"
   ]
  },
  {
   "cell_type": "code",
   "execution_count": null,
   "id": "1171e22a",
   "metadata": {},
   "outputs": [],
   "source": [
    "# now have the function return the tax, and total as separate values\n"
   ]
  },
  {
   "cell_type": "code",
   "execution_count": null,
   "id": "ebfdbdba",
   "metadata": {},
   "outputs": [],
   "source": [
    "def tax_calculator(subtotal , sales_tax = .06):\n",
    "    '''\n",
    "    arguments = subtotal (numeric), sales_Tax (numeric)\n",
    "    This function calculates a sales total calculating the sales\n",
    "    tax on a subtotal and adding it to the subtotal. It returns the\n",
    "    subtotal, tax, and sales tax as a list.\n",
    "    '''\n",
    "    tax = subtotal * sales_tax\n",
    "    total = subtotal + tax\n",
    "\n",
    "    return [subtotal, tax, total]\n",
    "    \n",
    "tax_calculator(100)"
   ]
  },
  {
   "cell_type": "code",
   "execution_count": null,
   "id": "2e03553c",
   "metadata": {},
   "outputs": [],
   "source": [
    "# now loop through this list of transactions and apply the changes"
   ]
  },
  {
   "cell_type": "code",
   "execution_count": null,
   "id": "fbd71d13",
   "metadata": {},
   "outputs": [],
   "source": [
    "subtotals = [15.98,899.97,799.97,117.96,\n",
    "             5.99,599.99,24.99]\n",
    "\n",
    "full_transactions = []\n",
    "\n",
    "for subtotal in subtotals:\n",
    "    transaction = tax_calculator(subtotal)\n",
    "    full_transactions.append(transaction)\n",
    "\n",
    "full_transactions"
   ]
  },
  {
   "cell_type": "code",
   "execution_count": null,
   "id": "3dba0fec",
   "metadata": {},
   "outputs": [],
   "source": [
    "customer_ids = ['C00004','C00007','C00015','C00016',\n",
    "                'C00020','C00010','C00006']\n",
    "\n",
    "customer_dict = dict(zip(customer_ids, full_transactions))\n",
    "\n",
    "customer_dict"
   ]
  },
  {
   "cell_type": "code",
   "execution_count": null,
   "id": "4f90f718",
   "metadata": {},
   "outputs": [],
   "source": [
    "list(customer_dict.values())"
   ]
  },
  {
   "cell_type": "code",
   "execution_count": null,
   "id": "9a24d311",
   "metadata": {},
   "outputs": [],
   "source": [
    "sum(list(customer_dict.values())[0])"
   ]
  },
  {
   "cell_type": "code",
   "execution_count": 1,
   "id": "71beb789",
   "metadata": {},
   "outputs": [
    {
     "name": "stdout",
     "output_type": "stream",
     "text": [
      "Overwriting tax_calculator.py\n"
     ]
    }
   ],
   "source": [
    "%%writefile tax_calculator.py\n",
    "def tax_calculator(subtotal , sales_tax = .06):\n",
    "    '''\n",
    "    arguments = subtotal (numeric), sales_Tax (numeric)\n",
    "    This function calculates a sales total calculating the sales\n",
    "    tax on a subtotal and adding it to the subtotal.\n",
    "    '''\n",
    "    tax = subtotal * sales_tax\n",
    "    total = subtotal + tax\n",
    "\n",
    "    return [subtotal, tax, total]"
   ]
  },
  {
   "cell_type": "code",
   "execution_count": 4,
   "id": "792db7da",
   "metadata": {},
   "outputs": [
    {
     "data": {
      "text/plain": [
       "[[1799.94, 107.9964, 1907.9364],\n",
       " [99.99, 5.9994, 105.98939999999999],\n",
       " [254.95, 15.296999999999999, 270.247],\n",
       " [29.98, 1.7988, 31.7788],\n",
       " [99.99, 5.9994, 105.98939999999999],\n",
       " [25.98, 1.5588, 27.538800000000002],\n",
       " [649.98, 38.9988, 688.9788],\n",
       " [89.99, 5.399399999999999, 95.3894]]"
      ]
     },
     "execution_count": 4,
     "metadata": {},
     "output_type": "execute_result"
    }
   ],
   "source": [
    "from tax_calculator import tax_calculator\n",
    "\n",
    "subtotals = [1799.94, 99.99,254.95,29.98,\n",
    "             99.99,25.98,649.98,89.99]\n",
    "\n",
    "list(map(tax_calculator, subtotals ))"
   ]
  },
  {
   "cell_type": "code",
   "execution_count": null,
   "id": "d6c70cf0",
   "metadata": {},
   "outputs": [],
   "source": [
    "subtotals = [15.98,899.97,799.97,117.96,5.99,599.99,24.99]\n",
    "\n",
    "discounted_subtotals = list(map(lambda subtotal : \n",
    "                                subtotal - (subtotal * .1) \n",
    "                                if subtotal > 500 else subtotal, \n",
    "                                subtotals))\n",
    "discounted_subtotals"
   ]
  },
  {
   "cell_type": "code",
   "execution_count": 10,
   "id": "9e3763a6",
   "metadata": {},
   "outputs": [],
   "source": [
    "def transaction_creator(subtotals, tax_rate):\n",
    "    transactions = [tax_calculator(subtotal, tax_rate) for subtotal in subtotals]\n",
    "    return transactions"
   ]
  },
  {
   "cell_type": "code",
   "execution_count": 11,
   "id": "a325cf3e",
   "metadata": {
    "scrolled": true
   },
   "outputs": [
    {
     "data": {
      "text/plain": [
       "[[1799.94, 143.9952, 1943.9352000000001],\n",
       " [99.99, 7.9992, 107.9892],\n",
       " [254.95, 20.396, 275.346],\n",
       " [29.98, 2.3984, 32.3784],\n",
       " [99.99, 7.9992, 107.9892],\n",
       " [25.98, 2.0784000000000002, 28.0584],\n",
       " [649.98, 51.998400000000004, 701.9784],\n",
       " [89.99, 7.199199999999999, 97.1892]]"
      ]
     },
     "execution_count": 11,
     "metadata": {},
     "output_type": "execute_result"
    }
   ],
   "source": [
    "transaction_creator(subtotals, .08)"
   ]
  },
  {
   "cell_type": "code",
   "execution_count": null,
   "id": "255cc4b8",
   "metadata": {},
   "outputs": [],
   "source": [
    "def transaction_creator(customer_ids, subtotals, tax_rate):\n",
    "    customer_dict = {customer_ids[i] : tax_calculator(subtotals[i], tax_rate) \n",
    "                     for i in range(len(customer_ids))}\n",
    "    return customer_dict"
   ]
  },
  {
   "cell_type": "code",
   "execution_count": 18,
   "id": "4061114f",
   "metadata": {},
   "outputs": [
    {
     "data": {
      "text/plain": [
       "{'C00004': [1799.94, 143.9952, 1943.9352000000001],\n",
       " 'C00007': [99.99, 7.9992, 107.9892],\n",
       " 'C00015': [254.95, 20.396, 275.346],\n",
       " 'C00016': [29.98, 2.3984, 32.3784],\n",
       " 'C00020': [99.99, 7.9992, 107.9892],\n",
       " 'C00010': [25.98, 2.0784000000000002, 28.0584],\n",
       " 'C00006': [649.98, 51.998400000000004, 701.9784]}"
      ]
     },
     "execution_count": 18,
     "metadata": {},
     "output_type": "execute_result"
    }
   ],
   "source": [
    "customer_ids = ['C00004','C00007','C00015','C00016', 'C00020','C00010','C00006']\n",
    "\n",
    "transaction_creator(customer_ids, subtotals, .08)"
   ]
  },
  {
   "cell_type": "code",
   "execution_count": 1,
   "id": "a89b60b1",
   "metadata": {},
   "outputs": [
    {
     "ename": "NameError",
     "evalue": "name 'tax_calculator' is not defined",
     "output_type": "error",
     "traceback": [
      "\u001b[0;31m---------------------------------------------------------------------------\u001b[0m",
      "\u001b[0;31mNameError\u001b[0m                                 Traceback (most recent call last)",
      "\u001b[0;32m/var/folders/f8/075hbnj13wb0f9yzh9k4nyz00000gn/T/ipykernel_20158/2831472352.py\u001b[0m in \u001b[0;36m<module>\u001b[0;34m\u001b[0m\n\u001b[0;32m----> 1\u001b[0;31m \u001b[0mtax_calculator\u001b[0m\u001b[0;34m\u001b[0m\u001b[0;34m\u001b[0m\u001b[0m\n\u001b[0m",
      "\u001b[0;31mNameError\u001b[0m: name 'tax_calculator' is not defined"
     ]
    }
   ],
   "source": [
    "tax_calculator"
   ]
  },
  {
   "cell_type": "code",
   "execution_count": null,
   "id": "169f7906",
   "metadata": {},
   "outputs": [],
   "source": [
    "# could even add promotions!"
   ]
  },
  {
   "cell_type": "code",
   "execution_count": 1,
   "id": "ec6d0104",
   "metadata": {},
   "outputs": [],
   "source": [
    "def currency_converter(price, exchange_rate = .88):\n",
    "    return round(float(price) * exchange_rate, 2)"
   ]
  },
  {
   "cell_type": "code",
   "execution_count": 2,
   "id": "bd1409df",
   "metadata": {},
   "outputs": [
    {
     "data": {
      "text/plain": [
       "[5.27, 17.59, 21.99, 0.0, 65.99, 87.99]"
      ]
     },
     "execution_count": 2,
     "metadata": {},
     "output_type": "execute_result"
    }
   ],
   "source": [
    "price_list = [5.99, 19.99, 24.99, 0, 74.99, 99.99]\n",
    "\n",
    "[currency_converter(price) for price in price_list]"
   ]
  },
  {
   "cell_type": "code",
   "execution_count": 3,
   "id": "e890f6af",
   "metadata": {},
   "outputs": [
    {
     "data": {
      "text/plain": [
       "[5.27, 17.59, 21.99, 0.0, 65.99, 87.99]"
      ]
     },
     "execution_count": 3,
     "metadata": {},
     "output_type": "execute_result"
    }
   ],
   "source": [
    "list(map(currency_converter, price_list))"
   ]
  },
  {
   "cell_type": "code",
   "execution_count": null,
   "id": "27e2bea1",
   "metadata": {},
   "outputs": [],
   "source": []
  }
 ],
 "metadata": {
  "kernelspec": {
   "display_name": "Python 3 (ipykernel)",
   "language": "python",
   "name": "python3"
  },
  "language_info": {
   "codemirror_mode": {
    "name": "ipython",
    "version": 3
   },
   "file_extension": ".py",
   "mimetype": "text/x-python",
   "name": "python",
   "nbconvert_exporter": "python",
   "pygments_lexer": "ipython3",
   "version": "3.9.7"
  }
 },
 "nbformat": 4,
 "nbformat_minor": 5
}
